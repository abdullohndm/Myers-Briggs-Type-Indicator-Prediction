{
 "cells": [
  {
   "cell_type": "code",
   "execution_count": 1,
   "id": "114d9a6e",
   "metadata": {},
   "outputs": [
    {
     "name": "stderr",
     "output_type": "stream",
     "text": [
      "[nltk_data] Downloading package stopwords to\n",
      "[nltk_data]     /Users/prakharkumar/nltk_data...\n",
      "[nltk_data]   Package stopwords is already up-to-date!\n"
     ]
    }
   ],
   "source": [
    "import numpy as np\n",
    "import pandas as pd\n",
    "import matplotlib.pyplot as plt\n",
    "import seaborn as sns\n",
    "import nltk\n",
    "nltk.download(\"stopwords\")\n",
    "import sklearn\n",
    "from sklearn.tree import DecisionTreeClassifier\n",
    "from sklearn.linear_model import LogisticRegression\n",
    "from sklearn.feature_extraction.text import TfidfVectorizer, CountVectorizer, TfidfTransformer\n",
    "from sklearn.metrics import f1_score, accuracy_score\n",
    "from sklearn.model_selection import train_test_split\n",
    "from sklearn.ensemble import RandomForestClassifier\n",
    "from sklearn.svm import SVC\n",
    "from gensim import models\n",
    "from gensim.models import KeyedVectors\n",
    "import wordcloud\n",
    "from nltk.tokenize import word_tokenize\n",
    "from nltk.stem import WordNetLemmatizer\n",
    "from nltk.corpus import stopwords\n",
    "import re\n",
    "from xgboost import XGBClassifier"
   ]
  },
  {
   "cell_type": "markdown",
   "id": "18cce396",
   "metadata": {},
   "source": [
    "# Loading Data:"
   ]
  },
  {
   "cell_type": "code",
   "execution_count": 2,
   "id": "5430e605",
   "metadata": {},
   "outputs": [
    {
     "data": {
      "text/html": [
       "<div>\n",
       "<style scoped>\n",
       "    .dataframe tbody tr th:only-of-type {\n",
       "        vertical-align: middle;\n",
       "    }\n",
       "\n",
       "    .dataframe tbody tr th {\n",
       "        vertical-align: top;\n",
       "    }\n",
       "\n",
       "    .dataframe thead th {\n",
       "        text-align: right;\n",
       "    }\n",
       "</style>\n",
       "<table border=\"1\" class=\"dataframe\">\n",
       "  <thead>\n",
       "    <tr style=\"text-align: right;\">\n",
       "      <th></th>\n",
       "      <th>type</th>\n",
       "      <th>posts</th>\n",
       "    </tr>\n",
       "  </thead>\n",
       "  <tbody>\n",
       "    <tr>\n",
       "      <th>0</th>\n",
       "      <td>INFJ</td>\n",
       "      <td>'http://www.youtube.com/watch?v=qsXHcwe3krw|||...</td>\n",
       "    </tr>\n",
       "    <tr>\n",
       "      <th>1</th>\n",
       "      <td>ENTP</td>\n",
       "      <td>'I'm finding the lack of me in these posts ver...</td>\n",
       "    </tr>\n",
       "    <tr>\n",
       "      <th>2</th>\n",
       "      <td>INTP</td>\n",
       "      <td>'Good one  _____   https://www.youtube.com/wat...</td>\n",
       "    </tr>\n",
       "    <tr>\n",
       "      <th>3</th>\n",
       "      <td>INTJ</td>\n",
       "      <td>'Dear INTP,   I enjoyed our conversation the o...</td>\n",
       "    </tr>\n",
       "    <tr>\n",
       "      <th>4</th>\n",
       "      <td>ENTJ</td>\n",
       "      <td>'You're fired.|||That's another silly misconce...</td>\n",
       "    </tr>\n",
       "  </tbody>\n",
       "</table>\n",
       "</div>"
      ],
      "text/plain": [
       "   type                                              posts\n",
       "0  INFJ  'http://www.youtube.com/watch?v=qsXHcwe3krw|||...\n",
       "1  ENTP  'I'm finding the lack of me in these posts ver...\n",
       "2  INTP  'Good one  _____   https://www.youtube.com/wat...\n",
       "3  INTJ  'Dear INTP,   I enjoyed our conversation the o...\n",
       "4  ENTJ  'You're fired.|||That's another silly misconce..."
      ]
     },
     "execution_count": 2,
     "metadata": {},
     "output_type": "execute_result"
    }
   ],
   "source": [
    "df = pd.read_csv('mbti_1.csv')\n",
    "df.head()"
   ]
  },
  {
   "cell_type": "code",
   "execution_count": 7,
   "id": "3bf6f7e6",
   "metadata": {},
   "outputs": [
    {
     "data": {
      "image/png": "[encoded data removed]",
      "text/plain": [
       "<Figure size 432x288 with 1 Axes>"
      ]
     },
     "metadata": {
      "needs_background": "light"
     },
     "output_type": "display_data"
    }
   ],
   "source": [
    "df[\"type\"].value_counts().plot(kind='bar')\n",
    "plt.show()"
   ]
  },
  {
   "cell_type": "markdown",
   "id": "4a0cc0c8",
   "metadata": {},
   "source": [
    "# Formatting the data:"
   ]
  },
  {
   "cell_type": "code",
   "execution_count": 8,
   "id": "ced67b7e",
   "metadata": {},
   "outputs": [],
   "source": [
    "# Create indicator target variables.\n",
    "df[\"IvsE\"] = df[\"type\"].apply(lambda x: 1 if x[0] == \"I\" else 0)\n",
    "df[\"NvsS\"] = df[\"type\"].apply(lambda x: 1 if x[1] == \"N\" else 0)\n",
    "df[\"TvsF\"] = df[\"type\"].apply(lambda x: 1 if x[2] == \"T\" else 0)\n",
    "df[\"JvsP\"] = df[\"type\"].apply(lambda x: 1 if x[3] == \"J\" else 0)"
   ]
  },
  {
   "cell_type": "code",
   "execution_count": 10,
   "id": "cc946761",
   "metadata": {},
   "outputs": [],
   "source": [
    "# convert to lower case.\n",
    "df[\"clean_posts\"] = df[\"posts\"].str.lower()\n",
    "\n",
    "# sentences are seperated by |||, replace them with space\n",
    "df[\"clean_posts\"] = df[\"clean_posts\"].str.replace(re.compile(r\"\\|\\|\\|\"), \" \")\n",
    "\n",
    "# remove links, urls.\n",
    "df[\"clean_posts\"] = df[\"clean_posts\"].str.replace(re.compile(r\"https?:\\/\\/(www)?.?([A-Za-z_0-9-]+)([\\S])*\"), \"\")\n",
    "\n",
    "# dropping emails\n",
    "df[\"clean_posts\"] = df[\"clean_posts\"].str.replace(re.compile(r\"\\S+@\\S+\"), \"\")\n",
    "\n",
    "# dropping punctuations\n",
    "df[\"clean_posts\"] = df[\"clean_posts\"].str.replace(re.compile(r\"[^a-z\\s]\"), \" \")\n",
    "\n",
    "# dropping MBTIs mentioned in the posts. There are quite a few mention of these types in these posts.\n",
    "mbtiTypes = df[\"type\"].unique()\n",
    "for type_word in mbtiTypes:\n",
    "    df[\"clean_posts\"] = df[\"clean_posts\"].str.replace(type_word.lower(), \"\")"
   ]
  },
  {
   "cell_type": "code",
   "execution_count": 14,
   "id": "e8a411d0",
   "metadata": {},
   "outputs": [],
   "source": [
    "# Lemmatize the text.\n",
    "lemmatizer = WordNetLemmatizer()\n",
    "\n",
    "df[\"clean_posts\"] = df[\"clean_posts\"].apply(\n",
    "    lambda x: \" \".join(\n",
    "        [\n",
    "            lemmatizer.lemmatize(word)\n",
    "            for word in x.split(\" \")\n",
    "            if word not in stopwords.words(\"english\")\n",
    "        ]\n",
    "    )\n",
    ")"
   ]
  },
  {
   "cell_type": "code",
   "execution_count": 15,
   "id": "d677bce9",
   "metadata": {},
   "outputs": [],
   "source": [
    "# Remove words of length 2 or less.\n",
    "df[\"clean_posts\"] = df[\"clean_posts\"].str.replace(re.compile(r\"\\b\\w{1,2}\\b\"), \"\")"
   ]
  },
  {
   "cell_type": "code",
   "execution_count": 17,
   "id": "d646e07a",
   "metadata": {},
   "outputs": [],
   "source": [
    "df.to_csv('FormattedCSV.csv', index=False)"
   ]
  },
  {
   "cell_type": "code",
   "execution_count": 2,
   "id": "ef212b01",
   "metadata": {},
   "outputs": [],
   "source": [
    "df = pd.read_csv('FormattedCSV.csv')"
   ]
  },
  {
   "cell_type": "code",
   "execution_count": 3,
   "id": "7f597ead",
   "metadata": {},
   "outputs": [
    {
     "data": {
      "text/html": [
       "<div>\n",
       "<style scoped>\n",
       "    .dataframe tbody tr th:only-of-type {\n",
       "        vertical-align: middle;\n",
       "    }\n",
       "\n",
       "    .dataframe tbody tr th {\n",
       "        vertical-align: top;\n",
       "    }\n",
       "\n",
       "    .dataframe thead th {\n",
       "        text-align: right;\n",
       "    }\n",
       "</style>\n",
       "<table border=\"1\" class=\"dataframe\">\n",
       "  <thead>\n",
       "    <tr style=\"text-align: right;\">\n",
       "      <th></th>\n",
       "      <th>type</th>\n",
       "      <th>posts</th>\n",
       "      <th>IvsE</th>\n",
       "      <th>NvsS</th>\n",
       "      <th>TvsF</th>\n",
       "      <th>JvsP</th>\n",
       "      <th>clean_posts</th>\n",
       "    </tr>\n",
       "  </thead>\n",
       "  <tbody>\n",
       "    <tr>\n",
       "      <th>0</th>\n",
       "      <td>INFJ</td>\n",
       "      <td>'http://www.youtube.com/watch?v=qsXHcwe3krw|||...</td>\n",
       "      <td>1</td>\n",
       "      <td>1</td>\n",
       "      <td>0</td>\n",
       "      <td>1</td>\n",
       "      <td>moment    sportscenter top ten play    pr...</td>\n",
       "    </tr>\n",
       "    <tr>\n",
       "      <th>1</th>\n",
       "      <td>ENTP</td>\n",
       "      <td>'I'm finding the lack of me in these posts ver...</td>\n",
       "      <td>0</td>\n",
       "      <td>1</td>\n",
       "      <td>1</td>\n",
       "      <td>0</td>\n",
       "      <td>finding lack post alarming  sex boring positi...</td>\n",
       "    </tr>\n",
       "    <tr>\n",
       "      <th>2</th>\n",
       "      <td>INTP</td>\n",
       "      <td>'Good one  _____   https://www.youtube.com/wat...</td>\n",
       "      <td>1</td>\n",
       "      <td>1</td>\n",
       "      <td>1</td>\n",
       "      <td>0</td>\n",
       "      <td>good one           course  say know  blessing...</td>\n",
       "    </tr>\n",
       "    <tr>\n",
       "      <th>3</th>\n",
       "      <td>INTJ</td>\n",
       "      <td>'Dear INTP,   I enjoyed our conversation the o...</td>\n",
       "      <td>1</td>\n",
       "      <td>1</td>\n",
       "      <td>1</td>\n",
       "      <td>1</td>\n",
       "      <td>dear     enjoyed conversation day   esoteric ...</td>\n",
       "    </tr>\n",
       "    <tr>\n",
       "      <th>4</th>\n",
       "      <td>ENTJ</td>\n",
       "      <td>'You're fired.|||That's another silly misconce...</td>\n",
       "      <td>0</td>\n",
       "      <td>1</td>\n",
       "      <td>1</td>\n",
       "      <td>1</td>\n",
       "      <td>fired  another silly misconception  approachi...</td>\n",
       "    </tr>\n",
       "  </tbody>\n",
       "</table>\n",
       "</div>"
      ],
      "text/plain": [
       "   type                                              posts  IvsE  NvsS  TvsF  \\\n",
       "0  INFJ  'http://www.youtube.com/watch?v=qsXHcwe3krw|||...     1     1     0   \n",
       "1  ENTP  'I'm finding the lack of me in these posts ver...     0     1     1   \n",
       "2  INTP  'Good one  _____   https://www.youtube.com/wat...     1     1     1   \n",
       "3  INTJ  'Dear INTP,   I enjoyed our conversation the o...     1     1     1   \n",
       "4  ENTJ  'You're fired.|||That's another silly misconce...     0     1     1   \n",
       "\n",
       "   JvsP                                        clean_posts  \n",
       "0     1       moment    sportscenter top ten play    pr...  \n",
       "1     0   finding lack post alarming  sex boring positi...  \n",
       "2     0   good one           course  say know  blessing...  \n",
       "3     1   dear     enjoyed conversation day   esoteric ...  \n",
       "4     1   fired  another silly misconception  approachi...  "
      ]
     },
     "execution_count": 3,
     "metadata": {},
     "output_type": "execute_result"
    }
   ],
   "source": [
    "df.head()"
   ]
  },
  {
   "cell_type": "markdown",
   "id": "4a261e92",
   "metadata": {},
   "source": [
    "# Feature Engineering:"
   ]
  },
  {
   "cell_type": "markdown",
   "id": "040b86bd",
   "metadata": {},
   "source": [
    "##### TFIDF:"
   ]
  },
  {
   "cell_type": "code",
   "execution_count": 4,
   "id": "b04f8fa1",
   "metadata": {},
   "outputs": [],
   "source": [
    "cVect = CountVectorizer(analyzer=\"word\", \n",
    "                             max_features=1500, \n",
    "                             tokenizer=None,    \n",
    "                             preprocessor=None, \n",
    "                             stop_words=None,  \n",
    "                             max_df=0.7,\n",
    "                             min_df=0.1)"
   ]
  },
  {
   "cell_type": "code",
   "execution_count": 5,
   "id": "7a7ccc28",
   "metadata": {},
   "outputs": [],
   "source": [
    "X_countVect = cVect.fit_transform(df['clean_posts'])"
   ]
  },
  {
   "cell_type": "code",
   "execution_count": 6,
   "id": "bf8371ac",
   "metadata": {},
   "outputs": [],
   "source": [
    "tfidfVect = TfidfTransformer()\n",
    "X_tfidf =  tfidfVect.fit_transform(X_countVect).toarray()"
   ]
  },
  {
   "cell_type": "markdown",
   "id": "604d119e",
   "metadata": {},
   "source": [
    "##### Word2Vec:"
   ]
  },
  {
   "cell_type": "code",
   "execution_count": 7,
   "id": "7574ba52",
   "metadata": {},
   "outputs": [],
   "source": [
    "w2v = KeyedVectors.load_word2vec_format('GoogleNews-vectors-negative300.bin', binary=True)"
   ]
  },
  {
   "cell_type": "code",
   "execution_count": 8,
   "id": "25361f1c",
   "metadata": {},
   "outputs": [],
   "source": [
    "X_w2v = []\n",
    "for post in df['clean_posts']:\n",
    "    wdim = np.zeros(300)\n",
    "    for token in post.strip().split(\" \"):\n",
    "        try:\n",
    "            wdim += w2v[token]\n",
    "        except:\n",
    "            pass\n",
    "    wdim /= len(post.strip().split(\" \"))\n",
    "    X_w2v.append(wdim)"
   ]
  },
  {
   "cell_type": "markdown",
   "id": "fd66a861",
   "metadata": {},
   "source": [
    "##### Glove:"
   ]
  },
  {
   "cell_type": "code",
   "execution_count": 4,
   "id": "4184f243",
   "metadata": {},
   "outputs": [],
   "source": [
    "tmp = pd.read_csv('glove.840B.300d.txt', sep=\" \", quoting=3, header=None, index_col=0)\n",
    "glove = {key: val.values for key, val in tmp.T.items()}"
   ]
  },
  {
   "cell_type": "code",
   "execution_count": 6,
   "id": "4d22c78e",
   "metadata": {},
   "outputs": [],
   "source": [
    "X_glove = []\n",
    "for post in df['clean_posts']:\n",
    "    wdim = np.zeros(300)\n",
    "    for token in post.strip().split(\" \"):\n",
    "        try:\n",
    "            wdim += glove[token]\n",
    "        except:\n",
    "            pass\n",
    "    wdim /= len(post.strip().split(\" \"))\n",
    "    X_glove.append(wdim)"
   ]
  },
  {
   "cell_type": "code",
   "execution_count": 8,
   "id": "3ab4525a",
   "metadata": {},
   "outputs": [],
   "source": [
    "targets = ['IvsE', 'NvsS', 'TvsF', 'JvsP']"
   ]
  },
  {
   "cell_type": "markdown",
   "id": "006d8c09",
   "metadata": {},
   "source": [
    "## Logistic Regression:"
   ]
  },
  {
   "cell_type": "markdown",
   "id": "1abd2380",
   "metadata": {},
   "source": [
    "### TFIDF:"
   ]
  },
  {
   "cell_type": "code",
   "execution_count": 10,
   "id": "f6198499",
   "metadata": {},
   "outputs": [
    {
     "name": "stdout",
     "output_type": "stream",
     "text": [
      "C = 1e-05\n",
      "IvsE  F1 Score ->  0.8731601731601731  Accuracy Score ->  0.7748751440645409\n",
      "NvsS  F1 Score ->  0.9303472364906513  Accuracy Score ->  0.869765655013446\n",
      "TvsF  F1 Score ->  0.0  Accuracy Score ->  0.5409143296196696\n",
      "JvsP  F1 Score ->  0.0  Accuracy Score ->  0.5950825970034576\n",
      "\n",
      "\n",
      "C = 0.0001\n",
      "IvsE  F1 Score ->  0.8731601731601731  Accuracy Score ->  0.7748751440645409\n",
      "NvsS  F1 Score ->  0.9303472364906513  Accuracy Score ->  0.869765655013446\n",
      "TvsF  F1 Score ->  0.0  Accuracy Score ->  0.5409143296196696\n",
      "JvsP  F1 Score ->  0.0  Accuracy Score ->  0.5950825970034576\n",
      "\n",
      "\n",
      "C = 0.001\n",
      "IvsE  F1 Score ->  0.8731601731601731  Accuracy Score ->  0.7748751440645409\n",
      "NvsS  F1 Score ->  0.9303472364906513  Accuracy Score ->  0.869765655013446\n",
      "TvsF  F1 Score ->  0.0  Accuracy Score ->  0.5409143296196696\n",
      "JvsP  F1 Score ->  0.0  Accuracy Score ->  0.5950825970034576\n",
      "\n",
      "\n",
      "C = 0.01\n",
      "IvsE  F1 Score ->  0.8731601731601731  Accuracy Score ->  0.7748751440645409\n",
      "NvsS  F1 Score ->  0.9303472364906513  Accuracy Score ->  0.869765655013446\n",
      "TvsF  F1 Score ->  0.10377358490566038  Accuracy Score ->  0.5620437956204379\n",
      "JvsP  F1 Score ->  0.0  Accuracy Score ->  0.5950825970034576\n",
      "\n",
      "\n",
      "C = 0.1\n",
      "IvsE  F1 Score ->  0.8731601731601731  Accuracy Score ->  0.7748751440645409\n",
      "NvsS  F1 Score ->  0.9303472364906513  Accuracy Score ->  0.869765655013446\n",
      "TvsF  F1 Score ->  0.6898444647758464  Accuracy Score ->  0.7395313100268921\n",
      "JvsP  F1 Score ->  0.11159546643417613  Accuracy Score ->  0.6085286208221283\n",
      "\n",
      "\n",
      "C = 1\n",
      "IvsE  F1 Score ->  0.8720106288751106  Accuracy Score ->  0.77794852093738\n",
      "NvsS  F1 Score ->  0.9294674069504422  Accuracy Score ->  0.8682289665770265\n",
      "TvsF  F1 Score ->  0.7233860624198375  Accuracy Score ->  0.7514406454091433\n",
      "JvsP  F1 Score ->  0.433392539964476  Accuracy Score ->  0.6323472915866308\n",
      "\n",
      "\n",
      "C = 3\n",
      "IvsE  F1 Score ->  0.8666969972702457  Accuracy Score ->  0.7748751440645409\n",
      "NvsS  F1 Score ->  0.9262107669923093  Accuracy Score ->  0.863618901267768\n",
      "TvsF  F1 Score ->  0.7210191082802547  Accuracy Score ->  0.7475989243180945\n",
      "JvsP  F1 Score ->  0.4521452145214522  Accuracy Score ->  0.6173645793315405\n",
      "\n",
      "\n",
      "C = 5\n",
      "IvsE  F1 Score ->  0.8606199770378874  Accuracy Score ->  0.7668075297733384\n",
      "NvsS  F1 Score ->  0.9239130434782609  Accuracy Score ->  0.860161352285824\n",
      "TvsF  F1 Score ->  0.7185122569737954  Accuracy Score ->  0.7441413753361505\n",
      "JvsP  F1 Score ->  0.4593716143011918  Accuracy Score ->  0.6165962351133307\n",
      "\n",
      "\n",
      "C = 10\n",
      "IvsE  F1 Score ->  0.8524361948955916  Accuracy Score ->  0.755666538609297\n",
      "NvsS  F1 Score ->  0.9191129883843716  Accuracy Score ->  0.8528620822128313\n",
      "TvsF  F1 Score ->  0.7117346938775511  Accuracy Score ->  0.7395313100268921\n",
      "JvsP  F1 Score ->  0.46747752511898466  Accuracy Score ->  0.6131386861313869\n",
      "\n",
      "\n"
     ]
    }
   ],
   "source": [
    "bestF1Avg = 0\n",
    "bestComb = {}\n",
    "f1s = []\n",
    "c_values = [0.00001, 0.0001, 0.001, 0.01, 0.1, 1, 3, 5, 10]\n",
    "for c in c_values:\n",
    "    print(\"C =\", c)\n",
    "    avgF1 = 0\n",
    "    comb = {}\n",
    "    for t in targets:\n",
    "        lrClf = LogisticRegression(random_state=0, C=c)\n",
    "        X_train, X_test, y_train, y_test = train_test_split(X_tfidf, df[t], test_size=0.3, random_state=0)\n",
    "        lrClf.fit(X_train, y_train)\n",
    "        y_pred = lrClf.predict(X_test)\n",
    "        print(t, \" F1 Score -> \", f1_score(y_test, y_pred), \" Accuracy Score -> \", accuracy_score(y_test, y_pred))\n",
    "        avgF1 += f1_score(y_test, y_pred)\n",
    "        comb[t] = lrClf\n",
    "    avgF1 /= 4\n",
    "    f1s.append(avgF1)\n",
    "    if avgF1 > bestF1Avg:\n",
    "        bestF1Avg = avgF1\n",
    "        bestComb = comb\n",
    "    print(\"\\n\")"
   ]
  },
  {
   "cell_type": "code",
   "execution_count": 11,
   "id": "48edb63b",
   "metadata": {},
   "outputs": [
    {
     "data": {
      "image/png": "[encoded data removed]",
      "text/plain": [
       "<Figure size 432x288 with 1 Axes>"
      ]
     },
     "metadata": {
      "needs_background": "light"
     },
     "output_type": "display_data"
    }
   ],
   "source": [
    "plt.title(\"F1 Score (Test)\")\n",
    "plt.plot(c_values, f1s)\n",
    "plt.xlabel('C values')\n",
    "plt.ylabel('F1 Score')\n",
    "plt.show()"
   ]
  },
  {
   "cell_type": "code",
   "execution_count": 12,
   "id": "df47fbfb",
   "metadata": {},
   "outputs": [
    {
     "name": "stdout",
     "output_type": "stream",
     "text": [
      "0.7415180217660655\n"
     ]
    }
   ],
   "source": [
    "print(bestF1Avg)"
   ]
  },
  {
   "cell_type": "markdown",
   "id": "9ae40254",
   "metadata": {},
   "source": [
    "### Word2Vec:"
   ]
  },
  {
   "cell_type": "code",
   "execution_count": 13,
   "id": "fb7e08b8",
   "metadata": {
    "scrolled": true
   },
   "outputs": [
    {
     "name": "stdout",
     "output_type": "stream",
     "text": [
      "C = 1e-05\n",
      "IvsE  F1 Score ->  0.8731601731601731  Accuracy Score ->  0.7748751440645409\n",
      "NvsS  F1 Score ->  0.9303472364906513  Accuracy Score ->  0.869765655013446\n",
      "TvsF  F1 Score ->  0.0  Accuracy Score ->  0.5409143296196696\n",
      "JvsP  F1 Score ->  0.0  Accuracy Score ->  0.5950825970034576\n",
      "\n",
      "\n",
      "C = 0.0001\n",
      "IvsE  F1 Score ->  0.8731601731601731  Accuracy Score ->  0.7748751440645409\n",
      "NvsS  F1 Score ->  0.9303472364906513  Accuracy Score ->  0.869765655013446\n",
      "TvsF  F1 Score ->  0.0  Accuracy Score ->  0.5409143296196696\n",
      "JvsP  F1 Score ->  0.0  Accuracy Score ->  0.5950825970034576\n",
      "\n",
      "\n",
      "C = 0.001\n",
      "IvsE  F1 Score ->  0.8731601731601731  Accuracy Score ->  0.7748751440645409\n",
      "NvsS  F1 Score ->  0.9303472364906513  Accuracy Score ->  0.869765655013446\n",
      "TvsF  F1 Score ->  0.0  Accuracy Score ->  0.5409143296196696\n",
      "JvsP  F1 Score ->  0.0  Accuracy Score ->  0.5950825970034576\n",
      "\n",
      "\n",
      "C = 0.01\n",
      "IvsE  F1 Score ->  0.8731601731601731  Accuracy Score ->  0.7748751440645409\n",
      "NvsS  F1 Score ->  0.9303472364906513  Accuracy Score ->  0.869765655013446\n",
      "TvsF  F1 Score ->  0.0  Accuracy Score ->  0.5409143296196696\n",
      "JvsP  F1 Score ->  0.0  Accuracy Score ->  0.5950825970034576\n",
      "\n",
      "\n",
      "C = 0.1\n",
      "IvsE  F1 Score ->  0.8731601731601731  Accuracy Score ->  0.7748751440645409\n",
      "NvsS  F1 Score ->  0.9303472364906513  Accuracy Score ->  0.869765655013446\n",
      "TvsF  F1 Score ->  0.31158455392809586  Accuracy Score ->  0.6027660391855552\n",
      "JvsP  F1 Score ->  0.0  Accuracy Score ->  0.5950825970034576\n",
      "\n",
      "\n",
      "C = 1\n",
      "IvsE  F1 Score ->  0.8731601731601731  Accuracy Score ->  0.7748751440645409\n",
      "NvsS  F1 Score ->  0.9303472364906513  Accuracy Score ->  0.869765655013446\n",
      "TvsF  F1 Score ->  0.6721687299403942  Accuracy Score ->  0.7253169419900115\n",
      "JvsP  F1 Score ->  0.15564853556485356  Accuracy Score ->  0.6123703419131771\n",
      "\n",
      "\n",
      "C = 3\n",
      "IvsE  F1 Score ->  0.874051593323217  Accuracy Score ->  0.7767960046100653\n",
      "NvsS  F1 Score ->  0.9303472364906513  Accuracy Score ->  0.869765655013446\n",
      "TvsF  F1 Score ->  0.7100436681222707  Accuracy Score ->  0.7449097195543604\n",
      "JvsP  F1 Score ->  0.2859237536656892  Accuracy Score ->  0.6258163657318478\n",
      "\n",
      "\n",
      "C = 5\n",
      "IvsE  F1 Score ->  0.8743762204382729  Accuracy Score ->  0.7775643488282751\n",
      "NvsS  F1 Score ->  0.9303186022610483  Accuracy Score ->  0.869765655013446\n",
      "TvsF  F1 Score ->  0.7177280550774526  Accuracy Score ->  0.7479830964271994\n",
      "JvsP  F1 Score ->  0.32162921348314605  Accuracy Score ->  0.6288897426046869\n",
      "\n",
      "\n",
      "C = 10\n",
      "IvsE  F1 Score ->  0.8755177676040985  Accuracy Score ->  0.7806377257011141\n",
      "NvsS  F1 Score ->  0.9307012132428543  Accuracy Score ->  0.8705339992316558\n"
     ]
    },
    {
     "name": "stderr",
     "output_type": "stream",
     "text": [
      "/opt/homebrew/lib/python3.9/site-packages/sklearn/linear_model/_logistic.py:763: ConvergenceWarning: lbfgs failed to converge (status=1):\n",
      "STOP: TOTAL NO. of ITERATIONS REACHED LIMIT.\n",
      "\n",
      "Increase the number of iterations (max_iter) or scale the data as shown in:\n",
      "    https://scikit-learn.org/stable/modules/preprocessing.html\n",
      "Please also refer to the documentation for alternative solver options:\n",
      "    https://scikit-learn.org/stable/modules/linear_model.html#logistic-regression\n",
      "  n_iter_i = _check_optimize_result(\n"
     ]
    },
    {
     "name": "stdout",
     "output_type": "stream",
     "text": [
      "TvsF  F1 Score ->  0.7292020373514431  Accuracy Score ->  0.7548981943910872\n",
      "JvsP  F1 Score ->  0.38038436050364477  Accuracy Score ->  0.6407990779869381\n",
      "\n",
      "\n"
     ]
    },
    {
     "name": "stderr",
     "output_type": "stream",
     "text": [
      "/opt/homebrew/lib/python3.9/site-packages/sklearn/linear_model/_logistic.py:763: ConvergenceWarning: lbfgs failed to converge (status=1):\n",
      "STOP: TOTAL NO. of ITERATIONS REACHED LIMIT.\n",
      "\n",
      "Increase the number of iterations (max_iter) or scale the data as shown in:\n",
      "    https://scikit-learn.org/stable/modules/preprocessing.html\n",
      "Please also refer to the documentation for alternative solver options:\n",
      "    https://scikit-learn.org/stable/modules/linear_model.html#logistic-regression\n",
      "  n_iter_i = _check_optimize_result(\n"
     ]
    }
   ],
   "source": [
    "bestF1Avg = 0\n",
    "bestComb = {}\n",
    "f1s = []\n",
    "c_values = [0.00001, 0.0001, 0.001, 0.01, 0.1, 1, 3, 5, 10]\n",
    "for c in c_values:\n",
    "    print(\"C =\", c)\n",
    "    avgF1 = 0\n",
    "    comb = {}\n",
    "    for t in targets:\n",
    "        lrClf = LogisticRegression(random_state=0, C=c)\n",
    "        X_train, X_test, y_train, y_test = train_test_split(X_w2v, df[t], test_size=0.3, random_state=0)\n",
    "        lrClf.fit(X_train, y_train)\n",
    "        y_pred = lrClf.predict(X_test)\n",
    "        print(t, \" F1 Score -> \", f1_score(y_test, y_pred), \" Accuracy Score -> \", accuracy_score(y_test, y_pred))\n",
    "        avgF1 += f1_score(y_test, y_pred)\n",
    "        comb[t] = lrClf\n",
    "    avgF1 /= 4\n",
    "    f1s.append(avgF1)\n",
    "    if avgF1 > bestF1Avg:\n",
    "        bestF1Avg = avgF1\n",
    "        bestComb = comb\n",
    "    print(\"\\n\")"
   ]
  },
  {
   "cell_type": "code",
   "execution_count": 14,
   "id": "9c737685",
   "metadata": {},
   "outputs": [
    {
     "data": {
      "image/png": "[encoded data removed]",
      "text/plain": [
       "<Figure size 432x288 with 1 Axes>"
      ]
     },
     "metadata": {
      "needs_background": "light"
     },
     "output_type": "display_data"
    }
   ],
   "source": [
    "plt.title(\"F1 Score (Test)\")\n",
    "plt.plot(c_values, f1s)\n",
    "plt.xlabel('C values')\n",
    "plt.ylabel('F1 Score')\n",
    "plt.show()"
   ]
  },
  {
   "cell_type": "code",
   "execution_count": 15,
   "id": "56d5f1ba",
   "metadata": {},
   "outputs": [
    {
     "name": "stdout",
     "output_type": "stream",
     "text": [
      "0.7289513446755103\n"
     ]
    }
   ],
   "source": [
    "print(bestF1Avg)"
   ]
  },
  {
   "cell_type": "markdown",
   "id": "cae24ad8",
   "metadata": {},
   "source": [
    "### Glove:"
   ]
  },
  {
   "cell_type": "code",
   "execution_count": 9,
   "id": "22abeedb",
   "metadata": {},
   "outputs": [
    {
     "name": "stdout",
     "output_type": "stream",
     "text": [
      "C = 1e-05\n",
      "IvsE  F1 Score ->  0.8731601731601731  Accuracy Score ->  0.7748751440645409\n",
      "NvsS  F1 Score ->  0.9303472364906513  Accuracy Score ->  0.869765655013446\n",
      "TvsF  F1 Score ->  0.0  Accuracy Score ->  0.5409143296196696\n",
      "JvsP  F1 Score ->  0.0  Accuracy Score ->  0.5950825970034576\n",
      "\n",
      "\n",
      "C = 0.0001\n",
      "IvsE  F1 Score ->  0.8731601731601731  Accuracy Score ->  0.7748751440645409\n",
      "NvsS  F1 Score ->  0.9303472364906513  Accuracy Score ->  0.869765655013446\n",
      "TvsF  F1 Score ->  0.0  Accuracy Score ->  0.5409143296196696\n",
      "JvsP  F1 Score ->  0.0  Accuracy Score ->  0.5950825970034576\n",
      "\n",
      "\n",
      "C = 0.001\n",
      "IvsE  F1 Score ->  0.8731601731601731  Accuracy Score ->  0.7748751440645409\n",
      "NvsS  F1 Score ->  0.9303472364906513  Accuracy Score ->  0.869765655013446\n",
      "TvsF  F1 Score ->  0.0  Accuracy Score ->  0.5409143296196696\n",
      "JvsP  F1 Score ->  0.0  Accuracy Score ->  0.5950825970034576\n",
      "\n",
      "\n",
      "C = 0.01\n",
      "IvsE  F1 Score ->  0.8731601731601731  Accuracy Score ->  0.7748751440645409\n",
      "NvsS  F1 Score ->  0.9303472364906513  Accuracy Score ->  0.869765655013446\n",
      "TvsF  F1 Score ->  0.2510460251046025  Accuracy Score ->  0.58739915482136\n",
      "JvsP  F1 Score ->  0.0  Accuracy Score ->  0.5950825970034576\n",
      "\n",
      "\n",
      "C = 0.1\n",
      "IvsE  F1 Score ->  0.8731601731601731  Accuracy Score ->  0.7748751440645409\n",
      "NvsS  F1 Score ->  0.9303472364906513  Accuracy Score ->  0.869765655013446\n",
      "TvsF  F1 Score ->  0.6396989651928504  Accuracy Score ->  0.7057241644256627\n",
      "JvsP  F1 Score ->  0.08857395925597873  Accuracy Score ->  0.6046868997310795\n",
      "\n",
      "\n",
      "C = 1\n",
      "IvsE  F1 Score ->  0.8743216843933145  Accuracy Score ->  0.7775643488282751\n",
      "NvsS  F1 Score ->  0.9303186022610483  Accuracy Score ->  0.869765655013446\n",
      "TvsF  F1 Score ->  0.7202406532015471  Accuracy Score ->  0.7499039569727238\n",
      "JvsP  F1 Score ->  0.32303370786516855  Accuracy Score ->  0.6296580868228967\n",
      "\n",
      "\n",
      "C = 3\n"
     ]
    },
    {
     "name": "stderr",
     "output_type": "stream",
     "text": [
      "/opt/homebrew/lib/python3.9/site-packages/sklearn/linear_model/_logistic.py:763: ConvergenceWarning: lbfgs failed to converge (status=1):\n",
      "STOP: TOTAL NO. of ITERATIONS REACHED LIMIT.\n",
      "\n",
      "Increase the number of iterations (max_iter) or scale the data as shown in:\n",
      "    https://scikit-learn.org/stable/modules/preprocessing.html\n",
      "Please also refer to the documentation for alternative solver options:\n",
      "    https://scikit-learn.org/stable/modules/linear_model.html#logistic-regression\n",
      "  n_iter_i = _check_optimize_result(\n"
     ]
    },
    {
     "name": "stdout",
     "output_type": "stream",
     "text": [
      "IvsE  F1 Score ->  0.8739054290718038  Accuracy Score ->  0.7787168651555897\n"
     ]
    },
    {
     "name": "stderr",
     "output_type": "stream",
     "text": [
      "/opt/homebrew/lib/python3.9/site-packages/sklearn/linear_model/_logistic.py:763: ConvergenceWarning: lbfgs failed to converge (status=1):\n",
      "STOP: TOTAL NO. of ITERATIONS REACHED LIMIT.\n",
      "\n",
      "Increase the number of iterations (max_iter) or scale the data as shown in:\n",
      "    https://scikit-learn.org/stable/modules/preprocessing.html\n",
      "Please also refer to the documentation for alternative solver options:\n",
      "    https://scikit-learn.org/stable/modules/linear_model.html#logistic-regression\n",
      "  n_iter_i = _check_optimize_result(\n"
     ]
    },
    {
     "name": "stdout",
     "output_type": "stream",
     "text": [
      "NvsS  F1 Score ->  0.9305870236869207  Accuracy Score ->  0.8705339992316558\n"
     ]
    },
    {
     "name": "stderr",
     "output_type": "stream",
     "text": [
      "/opt/homebrew/lib/python3.9/site-packages/sklearn/linear_model/_logistic.py:763: ConvergenceWarning: lbfgs failed to converge (status=1):\n",
      "STOP: TOTAL NO. of ITERATIONS REACHED LIMIT.\n",
      "\n",
      "Increase the number of iterations (max_iter) or scale the data as shown in:\n",
      "    https://scikit-learn.org/stable/modules/preprocessing.html\n",
      "Please also refer to the documentation for alternative solver options:\n",
      "    https://scikit-learn.org/stable/modules/linear_model.html#logistic-regression\n",
      "  n_iter_i = _check_optimize_result(\n"
     ]
    },
    {
     "name": "stdout",
     "output_type": "stream",
     "text": [
      "TvsF  F1 Score ->  0.7259512612227447  Accuracy Score ->  0.7537456780637726\n"
     ]
    },
    {
     "name": "stderr",
     "output_type": "stream",
     "text": [
      "/opt/homebrew/lib/python3.9/site-packages/sklearn/linear_model/_logistic.py:763: ConvergenceWarning: lbfgs failed to converge (status=1):\n",
      "STOP: TOTAL NO. of ITERATIONS REACHED LIMIT.\n",
      "\n",
      "Increase the number of iterations (max_iter) or scale the data as shown in:\n",
      "    https://scikit-learn.org/stable/modules/preprocessing.html\n",
      "Please also refer to the documentation for alternative solver options:\n",
      "    https://scikit-learn.org/stable/modules/linear_model.html#logistic-regression\n",
      "  n_iter_i = _check_optimize_result(\n"
     ]
    },
    {
     "name": "stdout",
     "output_type": "stream",
     "text": [
      "JvsP  F1 Score ->  0.3846653671215075  Accuracy Score ->  0.6361890126776796\n",
      "\n",
      "\n",
      "C = 5\n"
     ]
    },
    {
     "name": "stderr",
     "output_type": "stream",
     "text": [
      "/opt/homebrew/lib/python3.9/site-packages/sklearn/linear_model/_logistic.py:763: ConvergenceWarning: lbfgs failed to converge (status=1):\n",
      "STOP: TOTAL NO. of ITERATIONS REACHED LIMIT.\n",
      "\n",
      "Increase the number of iterations (max_iter) or scale the data as shown in:\n",
      "    https://scikit-learn.org/stable/modules/preprocessing.html\n",
      "Please also refer to the documentation for alternative solver options:\n",
      "    https://scikit-learn.org/stable/modules/linear_model.html#logistic-regression\n",
      "  n_iter_i = _check_optimize_result(\n"
     ]
    },
    {
     "name": "stdout",
     "output_type": "stream",
     "text": [
      "IvsE  F1 Score ->  0.8744493392070486  Accuracy Score ->  0.781021897810219\n"
     ]
    },
    {
     "name": "stderr",
     "output_type": "stream",
     "text": [
      "/opt/homebrew/lib/python3.9/site-packages/sklearn/linear_model/_logistic.py:763: ConvergenceWarning: lbfgs failed to converge (status=1):\n",
      "STOP: TOTAL NO. of ITERATIONS REACHED LIMIT.\n",
      "\n",
      "Increase the number of iterations (max_iter) or scale the data as shown in:\n",
      "    https://scikit-learn.org/stable/modules/preprocessing.html\n",
      "Please also refer to the documentation for alternative solver options:\n",
      "    https://scikit-learn.org/stable/modules/linear_model.html#logistic-regression\n",
      "  n_iter_i = _check_optimize_result(\n"
     ]
    },
    {
     "name": "stdout",
     "output_type": "stream",
     "text": [
      "NvsS  F1 Score ->  0.9303092783505156  Accuracy Score ->  0.870149827122551\n"
     ]
    },
    {
     "name": "stderr",
     "output_type": "stream",
     "text": [
      "/opt/homebrew/lib/python3.9/site-packages/sklearn/linear_model/_logistic.py:763: ConvergenceWarning: lbfgs failed to converge (status=1):\n",
      "STOP: TOTAL NO. of ITERATIONS REACHED LIMIT.\n",
      "\n",
      "Increase the number of iterations (max_iter) or scale the data as shown in:\n",
      "    https://scikit-learn.org/stable/modules/preprocessing.html\n",
      "Please also refer to the documentation for alternative solver options:\n",
      "    https://scikit-learn.org/stable/modules/linear_model.html#logistic-regression\n",
      "  n_iter_i = _check_optimize_result(\n"
     ]
    },
    {
     "name": "stdout",
     "output_type": "stream",
     "text": [
      "TvsF  F1 Score ->  0.7294418406476354  Accuracy Score ->  0.7560507107184018\n"
     ]
    },
    {
     "name": "stderr",
     "output_type": "stream",
     "text": [
      "/opt/homebrew/lib/python3.9/site-packages/sklearn/linear_model/_logistic.py:763: ConvergenceWarning: lbfgs failed to converge (status=1):\n",
      "STOP: TOTAL NO. of ITERATIONS REACHED LIMIT.\n",
      "\n",
      "Increase the number of iterations (max_iter) or scale the data as shown in:\n",
      "    https://scikit-learn.org/stable/modules/preprocessing.html\n",
      "Please also refer to the documentation for alternative solver options:\n",
      "    https://scikit-learn.org/stable/modules/linear_model.html#logistic-regression\n",
      "  n_iter_i = _check_optimize_result(\n"
     ]
    },
    {
     "name": "stdout",
     "output_type": "stream",
     "text": [
      "JvsP  F1 Score ->  0.4078282828282828  Accuracy Score ->  0.6396465616596235\n",
      "\n",
      "\n",
      "C = 10\n"
     ]
    },
    {
     "name": "stderr",
     "output_type": "stream",
     "text": [
      "/opt/homebrew/lib/python3.9/site-packages/sklearn/linear_model/_logistic.py:763: ConvergenceWarning: lbfgs failed to converge (status=1):\n",
      "STOP: TOTAL NO. of ITERATIONS REACHED LIMIT.\n",
      "\n",
      "Increase the number of iterations (max_iter) or scale the data as shown in:\n",
      "    https://scikit-learn.org/stable/modules/preprocessing.html\n",
      "Please also refer to the documentation for alternative solver options:\n",
      "    https://scikit-learn.org/stable/modules/linear_model.html#logistic-regression\n",
      "  n_iter_i = _check_optimize_result(\n"
     ]
    },
    {
     "name": "stdout",
     "output_type": "stream",
     "text": [
      "IvsE  F1 Score ->  0.875139105274872  Accuracy Score ->  0.7844794467921629\n"
     ]
    },
    {
     "name": "stderr",
     "output_type": "stream",
     "text": [
      "/opt/homebrew/lib/python3.9/site-packages/sklearn/linear_model/_logistic.py:763: ConvergenceWarning: lbfgs failed to converge (status=1):\n",
      "STOP: TOTAL NO. of ITERATIONS REACHED LIMIT.\n",
      "\n",
      "Increase the number of iterations (max_iter) or scale the data as shown in:\n",
      "    https://scikit-learn.org/stable/modules/preprocessing.html\n",
      "Please also refer to the documentation for alternative solver options:\n",
      "    https://scikit-learn.org/stable/modules/linear_model.html#logistic-regression\n",
      "  n_iter_i = _check_optimize_result(\n"
     ]
    },
    {
     "name": "stdout",
     "output_type": "stream",
     "text": [
      "NvsS  F1 Score ->  0.9315691544345669  Accuracy Score ->  0.8728390318862851\n"
     ]
    },
    {
     "name": "stderr",
     "output_type": "stream",
     "text": [
      "/opt/homebrew/lib/python3.9/site-packages/sklearn/linear_model/_logistic.py:763: ConvergenceWarning: lbfgs failed to converge (status=1):\n",
      "STOP: TOTAL NO. of ITERATIONS REACHED LIMIT.\n",
      "\n",
      "Increase the number of iterations (max_iter) or scale the data as shown in:\n",
      "    https://scikit-learn.org/stable/modules/preprocessing.html\n",
      "Please also refer to the documentation for alternative solver options:\n",
      "    https://scikit-learn.org/stable/modules/linear_model.html#logistic-regression\n",
      "  n_iter_i = _check_optimize_result(\n"
     ]
    },
    {
     "name": "stdout",
     "output_type": "stream",
     "text": [
      "TvsF  F1 Score ->  0.7319148936170212  Accuracy Score ->  0.7579715712639262\n",
      "JvsP  F1 Score ->  0.4324324324324324  Accuracy Score ->  0.6450249711870918\n",
      "\n",
      "\n"
     ]
    },
    {
     "name": "stderr",
     "output_type": "stream",
     "text": [
      "/opt/homebrew/lib/python3.9/site-packages/sklearn/linear_model/_logistic.py:763: ConvergenceWarning: lbfgs failed to converge (status=1):\n",
      "STOP: TOTAL NO. of ITERATIONS REACHED LIMIT.\n",
      "\n",
      "Increase the number of iterations (max_iter) or scale the data as shown in:\n",
      "    https://scikit-learn.org/stable/modules/preprocessing.html\n",
      "Please also refer to the documentation for alternative solver options:\n",
      "    https://scikit-learn.org/stable/modules/linear_model.html#logistic-regression\n",
      "  n_iter_i = _check_optimize_result(\n"
     ]
    }
   ],
   "source": [
    "bestF1Avg = 0\n",
    "bestComb = {}\n",
    "f1s = []\n",
    "c_values = [0.00001, 0.0001, 0.001, 0.01, 0.1, 1, 3, 5, 10]\n",
    "for c in c_values:\n",
    "    print(\"C =\", c)\n",
    "    avgF1 = 0\n",
    "    comb = {}\n",
    "    for t in targets:\n",
    "        lrClf = LogisticRegression(random_state=0, C=c)\n",
    "        X_train, X_test, y_train, y_test = train_test_split(X_glove, df[t], test_size=0.3, random_state=0)\n",
    "        lrClf.fit(X_train, y_train)\n",
    "        y_pred = lrClf.predict(X_test)\n",
    "        print(t, \" F1 Score -> \", f1_score(y_test, y_pred), \" Accuracy Score -> \", accuracy_score(y_test, y_pred))\n",
    "        avgF1 += f1_score(y_test, y_pred)\n",
    "        comb[t] = lrClf\n",
    "    avgF1 /= 4\n",
    "    f1s.append(avgF1)\n",
    "    if avgF1 > bestF1Avg:\n",
    "        bestF1Avg = avgF1\n",
    "        bestComb = comb\n",
    "    print(\"\\n\")"
   ]
  },
  {
   "cell_type": "code",
   "execution_count": 10,
   "id": "2bf5f952",
   "metadata": {},
   "outputs": [
    {
     "data": {
      "image/png": "[encoded data removed]",
      "text/plain": [
       "<Figure size 432x288 with 1 Axes>"
      ]
     },
     "metadata": {
      "needs_background": "light"
     },
     "output_type": "display_data"
    }
   ],
   "source": [
    "plt.title(\"F1 Score (Test)\")\n",
    "plt.plot(c_values, f1s)\n",
    "plt.xlabel('C values')\n",
    "plt.ylabel('F1 Score')\n",
    "plt.show()"
   ]
  },
  {
   "cell_type": "code",
   "execution_count": 11,
   "id": "1cab490c",
   "metadata": {},
   "outputs": [
    {
     "name": "stdout",
     "output_type": "stream",
     "text": [
      "0.7427638964397232\n"
     ]
    }
   ],
   "source": [
    "print(bestF1Avg)"
   ]
  },
  {
   "cell_type": "markdown",
   "id": "428b0589",
   "metadata": {},
   "source": [
    "## Decision Trees:"
   ]
  },
  {
   "cell_type": "markdown",
   "id": "06490f3c",
   "metadata": {},
   "source": [
    "### TFIDF:"
   ]
  },
  {
   "cell_type": "code",
   "execution_count": 16,
   "id": "82014908",
   "metadata": {},
   "outputs": [
    {
     "name": "stdout",
     "output_type": "stream",
     "text": [
      "Max depth: 3\n",
      "IvsE  F1 Score ->  0.8637566137566138  Accuracy Score ->  0.7625816365731848\n",
      "NvsS  F1 Score ->  0.9271413828689371  Accuracy Score ->  0.8643872454859777\n",
      "TvsF  F1 Score ->  0.6255411255411256  Accuracy Score ->  0.6012293507491356\n",
      "JvsP  F1 Score ->  0.24655547498187094  Accuracy Score ->  0.6008451786400307\n",
      "\n",
      "\n",
      "Max depth: 5\n",
      "IvsE  F1 Score ->  0.8581655480984341  Accuracy Score ->  0.7564348828275067\n",
      "NvsS  F1 Score ->  0.9264158743282348  Accuracy Score ->  0.8632347291586631\n",
      "TvsF  F1 Score ->  0.6039215686274508  Accuracy Score ->  0.6119861698040723\n",
      "JvsP  F1 Score ->  0.24233983286908076  Accuracy Score ->  0.5820207452938917\n",
      "\n",
      "\n",
      "Max depth: 6\n",
      "IvsE  F1 Score ->  0.8511216859279401  Accuracy Score ->  0.7475989243180945\n",
      "NvsS  F1 Score ->  0.9229491173416406  Accuracy Score ->  0.8574721475220899\n",
      "TvsF  F1 Score ->  0.5893642542982808  Accuracy Score ->  0.6054552439492893\n",
      "JvsP  F1 Score ->  0.22881355932203393  Accuracy Score ->  0.5804840568574722\n",
      "\n",
      "\n",
      "Max depth: 7\n",
      "IvsE  F1 Score ->  0.8537191951164369  Accuracy Score ->  0.7514406454091433\n",
      "NvsS  F1 Score ->  0.9217318900915904  Accuracy Score ->  0.8555512869765655\n",
      "TvsF  F1 Score ->  0.5659411011523687  Accuracy Score ->  0.609296965040338\n",
      "JvsP  F1 Score ->  0.2829331602855289  Accuracy Score ->  0.5754898194391087\n",
      "\n",
      "\n",
      "Max depth: 9\n",
      "IvsE  F1 Score ->  0.8370695632077652  Accuracy Score ->  0.7291586630810604\n",
      "NvsS  F1 Score ->  0.9200584429137967  Accuracy Score ->  0.8528620822128313\n",
      "TvsF  F1 Score ->  0.5735976381273724  Accuracy Score ->  0.6116019976949674\n",
      "JvsP  F1 Score ->  0.3101991550995776  Accuracy Score ->  0.5608912792931233\n",
      "\n",
      "\n",
      "Max depth: 15\n",
      "IvsE  F1 Score ->  0.8136482939632546  Accuracy Score ->  0.6999615827890895\n",
      "NvsS  F1 Score ->  0.9012398460880718  Accuracy Score ->  0.822512485593546\n",
      "TvsF  F1 Score ->  0.5471458773784356  Accuracy Score ->  0.5885516711486746\n",
      "JvsP  F1 Score ->  0.380651945320715  Accuracy Score ->  0.5474452554744526\n",
      "\n",
      "\n",
      "Max depth: 21\n",
      "IvsE  F1 Score ->  0.7999026290165531  Accuracy Score ->  0.6842105263157895\n",
      "NvsS  F1 Score ->  0.8852459016393442  Accuracy Score ->  0.7983096427199385\n",
      "TvsF  F1 Score ->  0.5262711864406779  Accuracy Score ->  0.5704955820207452\n",
      "JvsP  F1 Score ->  0.42125792296440756  Accuracy Score ->  0.5439877064925086\n",
      "\n",
      "\n"
     ]
    }
   ],
   "source": [
    "bestF1Avg = 0\n",
    "bestComb = {}\n",
    "f1s = []\n",
    "md = [3, 5, 6, 7, 9, 15, 21]\n",
    "for d in md:\n",
    "    print(\"Max depth:\", d)\n",
    "    avgF1 = 0\n",
    "    comb = {}\n",
    "    for t in targets:\n",
    "        dtClf = DecisionTreeClassifier(random_state=0, max_depth=d)\n",
    "        X_train, X_test, y_train, y_test = train_test_split(X_tfidf, df[t], test_size=0.3, random_state=0)\n",
    "        dtClf.fit(X_train, y_train)\n",
    "        y_pred = dtClf.predict(X_test)\n",
    "        print(t, \" F1 Score -> \", f1_score(y_test, y_pred), \" Accuracy Score -> \", accuracy_score(y_test, y_pred))\n",
    "        avgF1 += f1_score(y_test, y_pred)\n",
    "        comb[t] = dtClf\n",
    "    avgF1 /= 4\n",
    "    f1s.append(avgF1)\n",
    "    if avgF1 > bestF1Avg:\n",
    "        bestF1Avg = avgF1\n",
    "        bestComb = comb\n",
    "    print(\"\\n\")"
   ]
  },
  {
   "cell_type": "code",
   "execution_count": 17,
   "id": "34f427b8",
   "metadata": {},
   "outputs": [
    {
     "data": {
      "image/png": "[encoded data removed]",
      "text/plain": [
       "<Figure size 432x288 with 1 Axes>"
      ]
     },
     "metadata": {
      "needs_background": "light"
     },
     "output_type": "display_data"
    }
   ],
   "source": [
    "plt.title(\"F1 Score (Test)\")\n",
    "plt.plot(md, f1s)\n",
    "plt.xlabel('max depth values')\n",
    "plt.ylabel('F1 Score')\n",
    "plt.show()"
   ]
  },
  {
   "cell_type": "code",
   "execution_count": 18,
   "id": "23785e32",
   "metadata": {},
   "outputs": [
    {
     "name": "stdout",
     "output_type": "stream",
     "text": [
      "0.6657486492871368\n"
     ]
    }
   ],
   "source": [
    "print(bestF1Avg)"
   ]
  },
  {
   "cell_type": "markdown",
   "id": "4ed6723b",
   "metadata": {},
   "source": [
    "### Word2Vec:"
   ]
  },
  {
   "cell_type": "code",
   "execution_count": 19,
   "id": "74a7f99a",
   "metadata": {
    "scrolled": true
   },
   "outputs": [
    {
     "name": "stdout",
     "output_type": "stream",
     "text": [
      "Max depth: 3\n",
      "IvsE  F1 Score ->  0.8731601731601731  Accuracy Score ->  0.7748751440645409\n",
      "NvsS  F1 Score ->  0.9242895664799834  Accuracy Score ->  0.8597771801767192\n",
      "TvsF  F1 Score ->  0.6309121621621622  Accuracy Score ->  0.6642335766423357\n",
      "JvsP  F1 Score ->  0.4162844036697248  Accuracy Score ->  0.6089127929312332\n",
      "\n",
      "\n",
      "Max depth: 5\n",
      "IvsE  F1 Score ->  0.8643769264641128  Accuracy Score ->  0.7633499807913946\n",
      "NvsS  F1 Score ->  0.9228845352230095  Accuracy Score ->  0.8578563196311948\n",
      "TvsF  F1 Score ->  0.6069027341999104  Accuracy Score ->  0.6630810603150211\n",
      "JvsP  F1 Score ->  0.4050487664945496  Accuracy Score ->  0.6016135228582405\n",
      "\n",
      "\n",
      "Max depth: 6\n",
      "IvsE  F1 Score ->  0.8568872987477638  Accuracy Score ->  0.7541298501728775\n",
      "NvsS  F1 Score ->  0.9219206680584552  Accuracy Score ->  0.8563196311947753\n",
      "TvsF  F1 Score ->  0.6072224699063754  Accuracy Score ->  0.6615443718786016\n",
      "JvsP  F1 Score ->  0.40628507295173955  Accuracy Score ->  0.593545908567038\n",
      "\n",
      "\n",
      "Max depth: 7\n",
      "IvsE  F1 Score ->  0.8434842564927603  Accuracy Score ->  0.7383787936995774\n",
      "NvsS  F1 Score ->  0.9171038824763903  Accuracy Score ->  0.8482520169035728\n",
      "TvsF  F1 Score ->  0.6084337349397589  Accuracy Score ->  0.6504033807145602\n",
      "JvsP  F1 Score ->  0.4082313681868743  Accuracy Score ->  0.5912408759124088\n",
      "\n",
      "\n",
      "Max depth: 9\n",
      "IvsE  F1 Score ->  0.8026444662095984  Accuracy Score ->  0.6903572800614676\n",
      "NvsS  F1 Score ->  0.9102891156462585  Accuracy Score ->  0.837879369957741\n",
      "TvsF  F1 Score ->  0.5966422729229445  Accuracy Score ->  0.6400307337687284\n",
      "JvsP  F1 Score ->  0.4046733935209772  Accuracy Score ->  0.5693430656934306\n",
      "\n",
      "\n",
      "Max depth: 15\n",
      "IvsE  F1 Score ->  0.7910447761194029  Accuracy Score ->  0.6772954283519017\n",
      "NvsS  F1 Score ->  0.8857267950963222  Accuracy Score ->  0.7994621590472532\n",
      "TvsF  F1 Score ->  0.5966666666666668  Accuracy Score ->  0.6281213983864772\n",
      "JvsP  F1 Score ->  0.4494489698131289  Accuracy Score ->  0.5585862466384941\n",
      "\n",
      "\n",
      "Max depth: 21\n",
      "IvsE  F1 Score ->  0.787757150025088  Accuracy Score ->  0.6749903956972724\n",
      "NvsS  F1 Score ->  0.8713840676457499  Accuracy Score ->  0.77794852093738\n",
      "TvsF  F1 Score ->  0.5891666666666667  Accuracy Score ->  0.6212063004225893\n",
      "JvsP  F1 Score ->  0.4590930341280972  Accuracy Score ->  0.5555128697656551\n",
      "\n",
      "\n"
     ]
    }
   ],
   "source": [
    "bestF1Avg = 0\n",
    "bestComb = {}\n",
    "f1s = []\n",
    "md = [3, 5, 6, 7, 9, 15, 21]\n",
    "for d in md:\n",
    "    print(\"Max depth:\", d)\n",
    "    avgF1 = 0\n",
    "    comb = {}\n",
    "    for t in targets:\n",
    "        dtClf = DecisionTreeClassifier(random_state=0, max_depth=d)\n",
    "        X_train, X_test, y_train, y_test = train_test_split(X_w2v, df[t], test_size=0.3, random_state=0)\n",
    "        dtClf.fit(X_train, y_train)\n",
    "        y_pred = dtClf.predict(X_test)\n",
    "        print(t, \" F1 Score -> \", f1_score(y_test, y_pred), \" Accuracy Score -> \", accuracy_score(y_test, y_pred))\n",
    "        avgF1 += f1_score(y_test, y_pred)\n",
    "        comb[t] = dtClf\n",
    "    avgF1 /= 4\n",
    "    f1s.append(avgF1)\n",
    "    if avgF1 > bestF1Avg:\n",
    "        bestF1Avg = avgF1\n",
    "        bestComb = comb\n",
    "    print(\"\\n\")"
   ]
  },
  {
   "cell_type": "code",
   "execution_count": 20,
   "id": "0f9cad05",
   "metadata": {},
   "outputs": [
    {
     "data": {
      "image/png": "[encoded data removed]",
      "text/plain": [
       "<Figure size 432x288 with 1 Axes>"
      ]
     },
     "metadata": {
      "needs_background": "light"
     },
     "output_type": "display_data"
    }
   ],
   "source": [
    "plt.title(\"F1 Score (Test)\")\n",
    "plt.plot(md, f1s)\n",
    "plt.xlabel('max depth values')\n",
    "plt.ylabel('F1 Score')\n",
    "plt.show()"
   ]
  },
  {
   "cell_type": "code",
   "execution_count": 21,
   "id": "d5ec0ccb",
   "metadata": {},
   "outputs": [
    {
     "name": "stdout",
     "output_type": "stream",
     "text": [
      "0.7111615763680109\n"
     ]
    }
   ],
   "source": [
    "print(bestF1Avg)"
   ]
  },
  {
   "cell_type": "markdown",
   "id": "c75eaf6c",
   "metadata": {},
   "source": [
    "### Glove:"
   ]
  },
  {
   "cell_type": "code",
   "execution_count": 12,
   "id": "1fb0957c",
   "metadata": {
    "scrolled": true
   },
   "outputs": [
    {
     "name": "stdout",
     "output_type": "stream",
     "text": [
      "Max depth: 3\n",
      "IvsE  F1 Score ->  0.8731601731601731  Accuracy Score ->  0.7748751440645409\n",
      "NvsS  F1 Score ->  0.9255958549222798  Accuracy Score ->  0.8620822128313484\n",
      "TvsF  F1 Score ->  0.614743856726364  Accuracy Score ->  0.644640799077987\n",
      "JvsP  F1 Score ->  0.34900990099009904  Accuracy Score ->  0.5958509412216673\n",
      "\n",
      "\n",
      "Max depth: 5\n",
      "IvsE  F1 Score ->  0.8591172536781096  Accuracy Score ->  0.7572032270457165\n",
      "NvsS  F1 Score ->  0.9190545910897302  Accuracy Score ->  0.8513253937764118\n",
      "TvsF  F1 Score ->  0.6349079263410728  Accuracy Score ->  0.6496350364963503\n",
      "JvsP  F1 Score ->  0.3801749271137027  Accuracy Score ->  0.5916250480215136\n",
      "\n",
      "\n",
      "Max depth: 6\n",
      "IvsE  F1 Score ->  0.8502857142857144  Accuracy Score ->  0.7483672685363043\n",
      "NvsS  F1 Score ->  0.9194630872483222  Accuracy Score ->  0.8524779101037264\n",
      "TvsF  F1 Score ->  0.6407846342460155  Accuracy Score ->  0.6623127160968114\n",
      "JvsP  F1 Score ->  0.4172506738544474  Accuracy Score ->  0.5847099500576258\n",
      "\n",
      "\n",
      "Max depth: 7\n",
      "IvsE  F1 Score ->  0.8313762329732268  Accuracy Score ->  0.7241644256626969\n",
      "NvsS  F1 Score ->  0.9149831649831649  Accuracy Score ->  0.8447944679216289\n",
      "TvsF  F1 Score ->  0.6180150125104253  Accuracy Score ->  0.6480983480599308\n",
      "JvsP  F1 Score ->  0.36829836829836826  Accuracy Score ->  0.5835574337303112\n",
      "\n",
      "\n",
      "Max depth: 9\n",
      "IvsE  F1 Score ->  0.8036529680365296  Accuracy Score ->  0.6861313868613139\n",
      "NvsS  F1 Score ->  0.905829596412556  Accuracy Score ->  0.8305800998847483\n",
      "TvsF  F1 Score ->  0.6240846216436127  Accuracy Score ->  0.6450249711870918\n",
      "JvsP  F1 Score ->  0.39673024523160755  Accuracy Score ->  0.574721475220899\n",
      "\n",
      "\n",
      "Max depth: 15\n",
      "IvsE  F1 Score ->  0.78900883218842  Accuracy Score ->  0.6696119861698041\n",
      "NvsS  F1 Score ->  0.8839246605343846  Accuracy Score ->  0.7963887821744141\n",
      "TvsF  F1 Score ->  0.5941969758888435  Accuracy Score ->  0.6185170956588552\n",
      "JvsP  F1 Score ->  0.43351193375547975  Accuracy Score ->  0.5532078371110257\n",
      "\n",
      "\n",
      "Max depth: 21\n",
      "IvsE  F1 Score ->  0.7873235949492449  Accuracy Score ->  0.6699961582789089\n",
      "NvsS  F1 Score ->  0.8752501667778518  Accuracy Score ->  0.7844794467921629\n",
      "TvsF  F1 Score ->  0.5988608624898292  Accuracy Score ->  0.6212063004225893\n",
      "JvsP  F1 Score ->  0.4349477682811016  Accuracy Score ->  0.542835190165194\n",
      "\n",
      "\n"
     ]
    }
   ],
   "source": [
    "bestF1Avg = 0\n",
    "bestComb = {}\n",
    "f1s = []\n",
    "md = [3, 5, 6, 7, 9, 15, 21]\n",
    "for d in md:\n",
    "    print(\"Max depth:\", d)\n",
    "    avgF1 = 0\n",
    "    comb = {}\n",
    "    for t in targets:\n",
    "        dtClf = DecisionTreeClassifier(random_state=0, max_depth=d)\n",
    "        X_train, X_test, y_train, y_test = train_test_split(X_glove, df[t], test_size=0.3, random_state=0)\n",
    "        dtClf.fit(X_train, y_train)\n",
    "        y_pred = dtClf.predict(X_test)\n",
    "        print(t, \" F1 Score -> \", f1_score(y_test, y_pred), \" Accuracy Score -> \", accuracy_score(y_test, y_pred))\n",
    "        avgF1 += f1_score(y_test, y_pred)\n",
    "        comb[t] = dtClf\n",
    "    avgF1 /= 4\n",
    "    f1s.append(avgF1)\n",
    "    if avgF1 > bestF1Avg:\n",
    "        bestF1Avg = avgF1\n",
    "        bestComb = comb\n",
    "    print(\"\\n\")"
   ]
  },
  {
   "cell_type": "code",
   "execution_count": 13,
   "id": "fba2ff50",
   "metadata": {},
   "outputs": [
    {
     "data": {
      "image/png": "[encoded data removed]",
      "text/plain": [
       "<Figure size 432x288 with 1 Axes>"
      ]
     },
     "metadata": {
      "needs_background": "light"
     },
     "output_type": "display_data"
    }
   ],
   "source": [
    "plt.title(\"F1 Score (Test)\")\n",
    "plt.plot(md, f1s)\n",
    "plt.xlabel('max depth values')\n",
    "plt.ylabel('F1 Score')\n",
    "plt.show()"
   ]
  },
  {
   "cell_type": "code",
   "execution_count": 14,
   "id": "d4ff7d50",
   "metadata": {},
   "outputs": [
    {
     "name": "stdout",
     "output_type": "stream",
     "text": [
      "0.7069460274086249\n"
     ]
    }
   ],
   "source": [
    "print(bestF1Avg)"
   ]
  },
  {
   "cell_type": "markdown",
   "id": "1e3846ff",
   "metadata": {},
   "source": [
    "## Random Forests:"
   ]
  },
  {
   "cell_type": "markdown",
   "id": "3d11c7cf",
   "metadata": {},
   "source": [
    "### TFIDF:"
   ]
  },
  {
   "cell_type": "code",
   "execution_count": 22,
   "id": "3feff33e",
   "metadata": {
    "scrolled": true
   },
   "outputs": [
    {
     "name": "stdout",
     "output_type": "stream",
     "text": [
      "n_estimators: 50\n",
      "IvsE  F1 Score ->  0.8725617685305591  Accuracy Score ->  0.7741067998463311\n",
      "NvsS  F1 Score ->  0.9303186022610483  Accuracy Score ->  0.869765655013446\n",
      "TvsF  F1 Score ->  0.5938534278959811  Accuracy Score ->  0.6699961582789089\n",
      "JvsP  F1 Score ->  0.19999999999999998  Accuracy Score ->  0.6004610065309258\n",
      "\n",
      "\n",
      "n_estimators: 100\n",
      "IvsE  F1 Score ->  0.8729162156310891  Accuracy Score ->  0.774490971955436\n",
      "NvsS  F1 Score ->  0.9303186022610483  Accuracy Score ->  0.869765655013446\n",
      "TvsF  F1 Score ->  0.638655462184874  Accuracy Score ->  0.7026507875528236\n",
      "JvsP  F1 Score ->  0.15397215397215397  Accuracy Score ->  0.60315021129466\n",
      "\n",
      "\n",
      "n_estimators: 150\n",
      "IvsE  F1 Score ->  0.8729162156310891  Accuracy Score ->  0.774490971955436\n",
      "NvsS  F1 Score ->  0.9303186022610483  Accuracy Score ->  0.869765655013446\n",
      "TvsF  F1 Score ->  0.6448641179180101  Accuracy Score ->  0.7038033038801383\n",
      "JvsP  F1 Score ->  0.13717188823031326  Accuracy Score ->  0.6085286208221283\n",
      "\n",
      "\n",
      "n_estimators: 200\n",
      "IvsE  F1 Score ->  0.8731601731601731  Accuracy Score ->  0.7748751440645409\n",
      "NvsS  F1 Score ->  0.9303186022610483  Accuracy Score ->  0.869765655013446\n",
      "TvsF  F1 Score ->  0.6530801296896711  Accuracy Score ->  0.7122550902804456\n",
      "JvsP  F1 Score ->  0.11284722222222224  Accuracy Score ->  0.6073761044948137\n",
      "\n",
      "\n",
      "n_estimators: 250\n",
      "IvsE  F1 Score ->  0.8731601731601731  Accuracy Score ->  0.7748751440645409\n",
      "NvsS  F1 Score ->  0.9303186022610483  Accuracy Score ->  0.869765655013446\n",
      "TvsF  F1 Score ->  0.6688102893890675  Accuracy Score ->  0.7230119093353823\n",
      "JvsP  F1 Score ->  0.10498687664041995  Accuracy Score ->  0.6069919323857088\n",
      "\n",
      "\n"
     ]
    }
   ],
   "source": [
    "bestF1Avg = 0\n",
    "bestComb = {}\n",
    "f1s = []\n",
    "n_estims = [50, 100, 150, 200, 250]\n",
    "for est in n_estims:\n",
    "    print(\"n_estimators:\", est)\n",
    "    avgF1 = 0\n",
    "    comb = {}\n",
    "    for t in targets:\n",
    "        rfClf = RandomForestClassifier(random_state=0, n_estimators=est)\n",
    "        X_train, X_test, y_train, y_test = train_test_split(X_tfidf, df[t], test_size=0.3, random_state=0)\n",
    "        rfClf.fit(X_train, y_train)\n",
    "        y_pred = rfClf.predict(X_test)\n",
    "        print(t, \" F1 Score -> \", f1_score(y_test, y_pred), \" Accuracy Score -> \", accuracy_score(y_test, y_pred))\n",
    "        avgF1 += f1_score(y_test, y_pred)\n",
    "        comb[t] = rfClf\n",
    "    avgF1 /= 4\n",
    "    f1s.append(avgF1)\n",
    "    if avgF1 > bestF1Avg:\n",
    "        bestF1Avg = avgF1\n",
    "        bestComb = comb\n",
    "    print(\"\\n\")"
   ]
  },
  {
   "cell_type": "code",
   "execution_count": 23,
   "id": "c514b6bc",
   "metadata": {},
   "outputs": [
    {
     "data": {
      "image/png": "[encoded data removed]",
      "text/plain": [
       "<Figure size 432x288 with 1 Axes>"
      ]
     },
     "metadata": {
      "needs_background": "light"
     },
     "output_type": "display_data"
    }
   ],
   "source": [
    "plt.title(\"F1 Score (Test)\")\n",
    "plt.plot(n_estims, f1s)\n",
    "plt.xlabel('number of trees')\n",
    "plt.ylabel('F1 Score')\n",
    "plt.show()"
   ]
  },
  {
   "cell_type": "code",
   "execution_count": 24,
   "id": "83b5703a",
   "metadata": {},
   "outputs": [
    {
     "name": "stdout",
     "output_type": "stream",
     "text": [
      "0.6491834496718971\n"
     ]
    }
   ],
   "source": [
    "print(bestF1Avg)"
   ]
  },
  {
   "cell_type": "markdown",
   "id": "ede4fa05",
   "metadata": {},
   "source": [
    "### Word2Vec:"
   ]
  },
  {
   "cell_type": "code",
   "execution_count": 25,
   "id": "632607b6",
   "metadata": {
    "scrolled": true
   },
   "outputs": [
    {
     "name": "stdout",
     "output_type": "stream",
     "text": [
      "n_estimators: 50\n",
      "IvsE  F1 Score ->  0.8711656441717792  Accuracy Score ->  0.7741067998463311\n",
      "NvsS  F1 Score ->  0.9270208807111847  Accuracy Score ->  0.8643872454859777\n",
      "TvsF  F1 Score ->  0.6734065934065934  Accuracy Score ->  0.7145601229350749\n",
      "JvsP  F1 Score ->  0.3238221632382216  Accuracy Score ->  0.6085286208221283\n",
      "\n",
      "\n",
      "n_estimators: 100\n",
      "IvsE  F1 Score ->  0.8729882557633754  Accuracy Score ->  0.7756434882827506\n",
      "NvsS  F1 Score ->  0.9283501961594053  Accuracy Score ->  0.866692278140607\n",
      "TvsF  F1 Score ->  0.6821569487067075  Accuracy Score ->  0.7214752208989628\n",
      "JvsP  F1 Score ->  0.3497997329773031  Accuracy Score ->  0.6258163657318478\n",
      "\n",
      "\n",
      "n_estimators: 150\n",
      "IvsE  F1 Score ->  0.8725298588490771  Accuracy Score ->  0.774490971955436\n",
      "NvsS  F1 Score ->  0.9292929292929292  Accuracy Score ->  0.8682289665770265\n",
      "TvsF  F1 Score ->  0.6960313999127781  Accuracy Score ->  0.7322320399538993\n",
      "JvsP  F1 Score ->  0.32926829268292684  Accuracy Score ->  0.6196696119861698\n",
      "\n",
      "\n",
      "n_estimators: 200\n",
      "IvsE  F1 Score ->  0.8723404255319149  Accuracy Score ->  0.7741067998463311\n",
      "NvsS  F1 Score ->  0.9291306139266584  Accuracy Score ->  0.8678447944679216\n",
      "TvsF  F1 Score ->  0.7019982623805386  Accuracy Score ->  0.7364579331540531\n",
      "JvsP  F1 Score ->  0.3455782312925171  Accuracy Score ->  0.6304264310411064\n",
      "\n",
      "\n",
      "n_estimators: 250\n",
      "IvsE  F1 Score ->  0.8727746417716022  Accuracy Score ->  0.7748751440645409\n",
      "NvsS  F1 Score ->  0.9295136026380875  Accuracy Score ->  0.8686131386861314\n",
      "TvsF  F1 Score ->  0.7039586919104992  Accuracy Score ->  0.7356895889358432\n",
      "JvsP  F1 Score ->  0.34812286689419797  Accuracy Score ->  0.6331156358048405\n",
      "\n",
      "\n"
     ]
    }
   ],
   "source": [
    "bestF1Avg = 0\n",
    "bestComb = {}\n",
    "f1s = []\n",
    "n_estims = [50, 100, 150, 200, 250]\n",
    "for est in n_estims:\n",
    "    print(\"n_estimators:\", est)\n",
    "    avgF1 = 0\n",
    "    comb = {}\n",
    "    for t in targets:\n",
    "        rfClf = RandomForestClassifier(random_state=0, n_estimators=est)\n",
    "        X_train, X_test, y_train, y_test = train_test_split(X_w2v, df[t], test_size=0.3, random_state=0)\n",
    "        rfClf.fit(X_train, y_train)\n",
    "        y_pred = rfClf.predict(X_test)\n",
    "        print(t, \" F1 Score -> \", f1_score(y_test, y_pred), \" Accuracy Score -> \", accuracy_score(y_test, y_pred))\n",
    "        avgF1 += f1_score(y_test, y_pred)\n",
    "        comb[t] = rfClf\n",
    "    avgF1 /= 4\n",
    "    f1s.append(avgF1)\n",
    "    if avgF1 > bestF1Avg:\n",
    "        bestF1Avg = avgF1\n",
    "        bestComb = comb\n",
    "    print(\"\\n\")"
   ]
  },
  {
   "cell_type": "code",
   "execution_count": 26,
   "id": "2861f4a4",
   "metadata": {},
   "outputs": [
    {
     "data": {
      "image/png": "[encoded data removed]",
      "text/plain": [
       "<Figure size 432x288 with 1 Axes>"
      ]
     },
     "metadata": {
      "needs_background": "light"
     },
     "output_type": "display_data"
    }
   ],
   "source": [
    "plt.title(\"F1 Score (Test)\")\n",
    "plt.plot(n_estims, f1s)\n",
    "plt.xlabel('number of trees')\n",
    "plt.ylabel('F1 Score')\n",
    "plt.show()"
   ]
  },
  {
   "cell_type": "code",
   "execution_count": 27,
   "id": "705e9900",
   "metadata": {},
   "outputs": [
    {
     "name": "stdout",
     "output_type": "stream",
     "text": [
      "0.7135924508035967\n"
     ]
    }
   ],
   "source": [
    "print(bestF1Avg)"
   ]
  },
  {
   "cell_type": "markdown",
   "id": "bcfe7887",
   "metadata": {},
   "source": [
    "### Glove:"
   ]
  },
  {
   "cell_type": "code",
   "execution_count": 15,
   "id": "27c5496f",
   "metadata": {
    "scrolled": true
   },
   "outputs": [
    {
     "name": "stdout",
     "output_type": "stream",
     "text": [
      "n_estimators: 50\n",
      "IvsE  F1 Score ->  0.8682306511729884  Accuracy Score ->  0.7691125624279678\n",
      "NvsS  F1 Score ->  0.9287042777433353  Accuracy Score ->  0.8674606223588167\n",
      "TvsF  F1 Score ->  0.6836108676599474  Accuracy Score ->  0.7226277372262774\n",
      "JvsP  F1 Score ->  0.3103678929765887  Accuracy Score ->  0.6039185555128698\n",
      "\n",
      "\n",
      "n_estimators: 100\n",
      "IvsE  F1 Score ->  0.8709677419354839  Accuracy Score ->  0.7725701114099116\n",
      "NvsS  F1 Score ->  0.9281881964506808  Accuracy Score ->  0.8663081060315021\n",
      "TvsF  F1 Score ->  0.6965131295738269  Accuracy Score ->  0.7291586630810604\n",
      "JvsP  F1 Score ->  0.3073798239675017  Accuracy Score ->  0.6069919323857088\n",
      "\n",
      "\n",
      "n_estimators: 150\n",
      "IvsE  F1 Score ->  0.8705882352941177  Accuracy Score ->  0.7718017671917019\n",
      "NvsS  F1 Score ->  0.9292053663570691  Accuracy Score ->  0.8682289665770265\n",
      "TvsF  F1 Score ->  0.70198105081826  Accuracy Score ->  0.7341529004994237\n",
      "JvsP  F1 Score ->  0.3041095890410959  Accuracy Score ->  0.6096811371494429\n",
      "\n",
      "\n",
      "n_estimators: 200\n",
      "IvsE  F1 Score ->  0.8714378942788775  Accuracy Score ->  0.7729542835190165\n",
      "NvsS  F1 Score ->  0.9292345780895399  Accuracy Score ->  0.8682289665770265\n",
      "TvsF  F1 Score ->  0.70198105081826  Accuracy Score ->  0.7341529004994237\n",
      "JvsP  F1 Score ->  0.31377899045020463  Accuracy Score ->  0.6135228582404917\n",
      "\n",
      "\n",
      "n_estimators: 250\n",
      "IvsE  F1 Score ->  0.8711709754507929  Accuracy Score ->  0.7721859393008068\n",
      "NvsS  F1 Score ->  0.9292053663570691  Accuracy Score ->  0.8682289665770265\n",
      "TvsF  F1 Score ->  0.7026563838903171  Accuracy Score ->  0.733384556281214\n",
      "JvsP  F1 Score ->  0.31361760660247595  Accuracy Score ->  0.6165962351133307\n",
      "\n",
      "\n"
     ]
    }
   ],
   "source": [
    "bestF1Avg = 0\n",
    "bestComb = {}\n",
    "f1s = []\n",
    "n_estims = [50, 100, 150, 200, 250]\n",
    "for est in n_estims:\n",
    "    print(\"n_estimators:\", est)\n",
    "    avgF1 = 0\n",
    "    comb = {}\n",
    "    for t in targets:\n",
    "        rfClf = RandomForestClassifier(random_state=0, n_estimators=est)\n",
    "        X_train, X_test, y_train, y_test = train_test_split(X_glove, df[t], test_size=0.3, random_state=0)\n",
    "        rfClf.fit(X_train, y_train)\n",
    "        y_pred = rfClf.predict(X_test)\n",
    "        print(t, \" F1 Score -> \", f1_score(y_test, y_pred), \" Accuracy Score -> \", accuracy_score(y_test, y_pred))\n",
    "        avgF1 += f1_score(y_test, y_pred)\n",
    "        comb[t] = rfClf\n",
    "    avgF1 /= 4\n",
    "    f1s.append(avgF1)\n",
    "    if avgF1 > bestF1Avg:\n",
    "        bestF1Avg = avgF1\n",
    "        bestComb = comb\n",
    "    print(\"\\n\")"
   ]
  },
  {
   "cell_type": "code",
   "execution_count": 16,
   "id": "3a7167e5",
   "metadata": {},
   "outputs": [
    {
     "data": {
      "image/png": "[encoded data removed]",
      "text/plain": [
       "<Figure size 432x288 with 1 Axes>"
      ]
     },
     "metadata": {
      "needs_background": "light"
     },
     "output_type": "display_data"
    }
   ],
   "source": [
    "plt.title(\"F1 Score (Test)\")\n",
    "plt.plot(n_estims, f1s)\n",
    "plt.xlabel('number of trees')\n",
    "plt.ylabel('F1 Score')\n",
    "plt.show()"
   ]
  },
  {
   "cell_type": "code",
   "execution_count": 17,
   "id": "dbee2c70",
   "metadata": {},
   "outputs": [
    {
     "name": "stdout",
     "output_type": "stream",
     "text": [
      "0.7041625830751638\n"
     ]
    }
   ],
   "source": [
    "print(bestF1Avg)"
   ]
  },
  {
   "cell_type": "markdown",
   "id": "66fe338b",
   "metadata": {},
   "source": [
    "## SVC:"
   ]
  },
  {
   "cell_type": "markdown",
   "id": "eaf377d5",
   "metadata": {},
   "source": [
    "### TFIDF:"
   ]
  },
  {
   "cell_type": "code",
   "execution_count": 28,
   "id": "087a46ba",
   "metadata": {
    "scrolled": true
   },
   "outputs": [
    {
     "name": "stdout",
     "output_type": "stream",
     "text": [
      "C: 1e-05\n",
      "IvsE  F1 Score ->  0.8731601731601731  Accuracy Score ->  0.7748751440645409\n",
      "NvsS  F1 Score ->  0.9303472364906513  Accuracy Score ->  0.869765655013446\n",
      "TvsF  F1 Score ->  0.0  Accuracy Score ->  0.5409143296196696\n",
      "JvsP  F1 Score ->  0.0  Accuracy Score ->  0.5950825970034576\n",
      "\n",
      "\n",
      "C: 0.0001\n",
      "IvsE  F1 Score ->  0.8731601731601731  Accuracy Score ->  0.7748751440645409\n",
      "NvsS  F1 Score ->  0.9303472364906513  Accuracy Score ->  0.869765655013446\n",
      "TvsF  F1 Score ->  0.0  Accuracy Score ->  0.5409143296196696\n",
      "JvsP  F1 Score ->  0.0  Accuracy Score ->  0.5950825970034576\n",
      "\n",
      "\n",
      "C: 0.001\n",
      "IvsE  F1 Score ->  0.8731601731601731  Accuracy Score ->  0.7748751440645409\n",
      "NvsS  F1 Score ->  0.9303472364906513  Accuracy Score ->  0.869765655013446\n",
      "TvsF  F1 Score ->  0.0  Accuracy Score ->  0.5409143296196696\n",
      "JvsP  F1 Score ->  0.0  Accuracy Score ->  0.5950825970034576\n",
      "\n",
      "\n",
      "C: 0.01\n",
      "IvsE  F1 Score ->  0.8731601731601731  Accuracy Score ->  0.7748751440645409\n",
      "NvsS  F1 Score ->  0.9303472364906513  Accuracy Score ->  0.869765655013446\n",
      "TvsF  F1 Score ->  0.0  Accuracy Score ->  0.5409143296196696\n",
      "JvsP  F1 Score ->  0.0  Accuracy Score ->  0.5950825970034576\n",
      "\n",
      "\n",
      "C: 0.1\n",
      "IvsE  F1 Score ->  0.8731601731601731  Accuracy Score ->  0.7748751440645409\n",
      "NvsS  F1 Score ->  0.9303472364906513  Accuracy Score ->  0.869765655013446\n",
      "TvsF  F1 Score ->  0.6275100401606426  Accuracy Score ->  0.7149442950441798\n",
      "JvsP  F1 Score ->  0.0  Accuracy Score ->  0.5950825970034576\n",
      "\n",
      "\n",
      "C: 1\n",
      "IvsE  F1 Score ->  0.8725298588490771  Accuracy Score ->  0.774490971955436\n",
      "NvsS  F1 Score ->  0.9303472364906513  Accuracy Score ->  0.869765655013446\n",
      "TvsF  F1 Score ->  0.7232255354892902  Accuracy Score ->  0.7468305800998848\n",
      "JvsP  F1 Score ->  0.39039797852179403  Accuracy Score ->  0.6292739147137918\n",
      "\n",
      "\n"
     ]
    }
   ],
   "source": [
    "bestF1Avg = 0\n",
    "bestComb = {}\n",
    "f1s = []\n",
    "c_values = [0.00001, 0.0001, 0.001, 0.01, 0.1, 1]\n",
    "for c in c_values:\n",
    "    print(\"C:\", c)\n",
    "    avgF1 = 0\n",
    "    comb = {}\n",
    "    for t in targets:\n",
    "        svcClf = SVC(random_state=0, C=c)\n",
    "        X_train, X_test, y_train, y_test = train_test_split(X_tfidf, df[t], test_size=0.3, random_state=0)\n",
    "        svcClf.fit(X_train, y_train)\n",
    "        y_pred = svcClf.predict(X_test)\n",
    "        print(t, \" F1 Score -> \", f1_score(y_test, y_pred), \" Accuracy Score -> \", accuracy_score(y_test, y_pred))\n",
    "        avgF1 += f1_score(y_test, y_pred)\n",
    "        comb[t] = svcClf\n",
    "    avgF1 /= 4\n",
    "    f1s.append(avgF1)\n",
    "    if avgF1 > bestF1Avg:\n",
    "        bestF1Avg = avgF1\n",
    "        bestComb = comb\n",
    "    print(\"\\n\")"
   ]
  },
  {
   "cell_type": "code",
   "execution_count": 29,
   "id": "0dd156f0",
   "metadata": {},
   "outputs": [
    {
     "data": {
      "image/png": "[encoded data removed]",
      "text/plain": [
       "<Figure size 432x288 with 1 Axes>"
      ]
     },
     "metadata": {
      "needs_background": "light"
     },
     "output_type": "display_data"
    }
   ],
   "source": [
    "plt.title(\"F1 Score (Test)\")\n",
    "plt.plot(c_values, f1s)\n",
    "plt.xlabel('inverse of regularization strength C')\n",
    "plt.ylabel('F1 Score')\n",
    "plt.show()"
   ]
  },
  {
   "cell_type": "code",
   "execution_count": 30,
   "id": "5ac6b626",
   "metadata": {},
   "outputs": [
    {
     "name": "stdout",
     "output_type": "stream",
     "text": [
      "0.7291251523377031\n"
     ]
    }
   ],
   "source": [
    "print(bestF1Avg)"
   ]
  },
  {
   "cell_type": "markdown",
   "id": "6cffc4b0",
   "metadata": {},
   "source": [
    "### Word2Vec:"
   ]
  },
  {
   "cell_type": "code",
   "execution_count": 31,
   "id": "f8cb62ca",
   "metadata": {
    "scrolled": true
   },
   "outputs": [
    {
     "name": "stdout",
     "output_type": "stream",
     "text": [
      "C: 1e-05\n",
      "IvsE  F1 Score ->  0.8731601731601731  Accuracy Score ->  0.7748751440645409\n",
      "NvsS  F1 Score ->  0.9303472364906513  Accuracy Score ->  0.869765655013446\n",
      "TvsF  F1 Score ->  0.0  Accuracy Score ->  0.5409143296196696\n",
      "JvsP  F1 Score ->  0.0  Accuracy Score ->  0.5950825970034576\n",
      "\n",
      "\n",
      "C: 0.0001\n",
      "IvsE  F1 Score ->  0.8731601731601731  Accuracy Score ->  0.7748751440645409\n",
      "NvsS  F1 Score ->  0.9303472364906513  Accuracy Score ->  0.869765655013446\n",
      "TvsF  F1 Score ->  0.0  Accuracy Score ->  0.5409143296196696\n",
      "JvsP  F1 Score ->  0.0  Accuracy Score ->  0.5950825970034576\n",
      "\n",
      "\n",
      "C: 0.001\n",
      "IvsE  F1 Score ->  0.8731601731601731  Accuracy Score ->  0.7748751440645409\n",
      "NvsS  F1 Score ->  0.9303472364906513  Accuracy Score ->  0.869765655013446\n",
      "TvsF  F1 Score ->  0.0  Accuracy Score ->  0.5409143296196696\n",
      "JvsP  F1 Score ->  0.0  Accuracy Score ->  0.5950825970034576\n",
      "\n",
      "\n",
      "C: 0.01\n",
      "IvsE  F1 Score ->  0.8731601731601731  Accuracy Score ->  0.7748751440645409\n",
      "NvsS  F1 Score ->  0.9303472364906513  Accuracy Score ->  0.869765655013446\n",
      "TvsF  F1 Score ->  0.0  Accuracy Score ->  0.5409143296196696\n",
      "JvsP  F1 Score ->  0.0  Accuracy Score ->  0.5950825970034576\n",
      "\n",
      "\n",
      "C: 0.1\n",
      "IvsE  F1 Score ->  0.8731601731601731  Accuracy Score ->  0.7748751440645409\n",
      "NvsS  F1 Score ->  0.9303472364906513  Accuracy Score ->  0.869765655013446\n",
      "TvsF  F1 Score ->  0.6601489757914338  Accuracy Score ->  0.7195543603534383\n",
      "JvsP  F1 Score ->  0.0  Accuracy Score ->  0.5950825970034576\n",
      "\n",
      "\n",
      "C: 1\n",
      "IvsE  F1 Score ->  0.8731601731601731  Accuracy Score ->  0.7748751440645409\n",
      "NvsS  F1 Score ->  0.9303472364906513  Accuracy Score ->  0.869765655013446\n",
      "TvsF  F1 Score ->  0.7292724196277495  Accuracy Score ->  0.7541298501728775\n",
      "JvsP  F1 Score ->  0.011299435028248588  Accuracy Score ->  0.5966192854398771\n",
      "\n",
      "\n"
     ]
    }
   ],
   "source": [
    "bestF1Avg = 0\n",
    "bestComb = {}\n",
    "f1s = []\n",
    "c_values = [0.00001, 0.0001, 0.001, 0.01, 0.1, 1]\n",
    "for c in c_values:\n",
    "    print(\"C:\", c)\n",
    "    avgF1 = 0\n",
    "    comb = {}\n",
    "    for t in targets:\n",
    "        svcClf = SVC(random_state=0, C=c)\n",
    "        X_train, X_test, y_train, y_test = train_test_split(X_w2v, df[t], test_size=0.3, random_state=0)\n",
    "        svcClf.fit(X_train, y_train)\n",
    "        y_pred = svcClf.predict(X_test)\n",
    "        print(t, \" F1 Score -> \", f1_score(y_test, y_pred), \" Accuracy Score -> \", accuracy_score(y_test, y_pred))\n",
    "        avgF1 += f1_score(y_test, y_pred)\n",
    "        comb[t] = svcClf\n",
    "    avgF1 /= 4\n",
    "    f1s.append(avgF1)\n",
    "    if avgF1 > bestF1Avg:\n",
    "        bestF1Avg = avgF1\n",
    "        bestComb = comb\n",
    "    print(\"\\n\")"
   ]
  },
  {
   "cell_type": "code",
   "execution_count": 32,
   "id": "b8b12faf",
   "metadata": {},
   "outputs": [
    {
     "data": {
      "image/png": "[encoded data removed]",
      "text/plain": [
       "<Figure size 432x288 with 1 Axes>"
      ]
     },
     "metadata": {
      "needs_background": "light"
     },
     "output_type": "display_data"
    }
   ],
   "source": [
    "plt.title(\"F1 Score (Test)\")\n",
    "plt.plot(c_values, f1s)\n",
    "plt.xlabel('inverse of regularization strength C')\n",
    "plt.ylabel('F1 Score')\n",
    "plt.show()"
   ]
  },
  {
   "cell_type": "code",
   "execution_count": 33,
   "id": "ee9b95cd",
   "metadata": {},
   "outputs": [
    {
     "name": "stdout",
     "output_type": "stream",
     "text": [
      "0.6360198160767057\n"
     ]
    }
   ],
   "source": [
    "print(bestF1Avg)"
   ]
  },
  {
   "cell_type": "markdown",
   "id": "993aae7b",
   "metadata": {},
   "source": [
    "### Glove:"
   ]
  },
  {
   "cell_type": "code",
   "execution_count": 18,
   "id": "3baf7510",
   "metadata": {
    "scrolled": true
   },
   "outputs": [
    {
     "name": "stdout",
     "output_type": "stream",
     "text": [
      "C: 1e-05\n",
      "IvsE  F1 Score ->  0.8731601731601731  Accuracy Score ->  0.7748751440645409\n",
      "NvsS  F1 Score ->  0.9303472364906513  Accuracy Score ->  0.869765655013446\n",
      "TvsF  F1 Score ->  0.0  Accuracy Score ->  0.5409143296196696\n",
      "JvsP  F1 Score ->  0.0  Accuracy Score ->  0.5950825970034576\n",
      "\n",
      "\n",
      "C: 0.0001\n",
      "IvsE  F1 Score ->  0.8731601731601731  Accuracy Score ->  0.7748751440645409\n",
      "NvsS  F1 Score ->  0.9303472364906513  Accuracy Score ->  0.869765655013446\n",
      "TvsF  F1 Score ->  0.0  Accuracy Score ->  0.5409143296196696\n",
      "JvsP  F1 Score ->  0.0  Accuracy Score ->  0.5950825970034576\n",
      "\n",
      "\n",
      "C: 0.001\n",
      "IvsE  F1 Score ->  0.8731601731601731  Accuracy Score ->  0.7748751440645409\n",
      "NvsS  F1 Score ->  0.9303472364906513  Accuracy Score ->  0.869765655013446\n",
      "TvsF  F1 Score ->  0.0  Accuracy Score ->  0.5409143296196696\n",
      "JvsP  F1 Score ->  0.0  Accuracy Score ->  0.5950825970034576\n",
      "\n",
      "\n",
      "C: 0.01\n",
      "IvsE  F1 Score ->  0.8731601731601731  Accuracy Score ->  0.7748751440645409\n",
      "NvsS  F1 Score ->  0.9303472364906513  Accuracy Score ->  0.869765655013446\n",
      "TvsF  F1 Score ->  0.0  Accuracy Score ->  0.5409143296196696\n",
      "JvsP  F1 Score ->  0.0  Accuracy Score ->  0.5950825970034576\n",
      "\n",
      "\n",
      "C: 0.1\n",
      "IvsE  F1 Score ->  0.8731601731601731  Accuracy Score ->  0.7748751440645409\n",
      "NvsS  F1 Score ->  0.9303472364906513  Accuracy Score ->  0.869765655013446\n",
      "TvsF  F1 Score ->  0.5773508594539939  Accuracy Score ->  0.6788321167883211\n",
      "JvsP  F1 Score ->  0.0  Accuracy Score ->  0.5950825970034576\n",
      "\n",
      "\n",
      "C: 1\n",
      "IvsE  F1 Score ->  0.8731601731601731  Accuracy Score ->  0.7748751440645409\n",
      "NvsS  F1 Score ->  0.9303472364906513  Accuracy Score ->  0.869765655013446\n",
      "TvsF  F1 Score ->  0.7226962457337884  Accuracy Score ->  0.7502881290818286\n",
      "JvsP  F1 Score ->  0.0  Accuracy Score ->  0.5950825970034576\n",
      "\n",
      "\n"
     ]
    }
   ],
   "source": [
    "bestF1Avg = 0\n",
    "bestComb = {}\n",
    "f1s = []\n",
    "c_values = [0.00001, 0.0001, 0.001, 0.01, 0.1, 1]\n",
    "for c in c_values:\n",
    "    print(\"C:\", c)\n",
    "    avgF1 = 0\n",
    "    comb = {}\n",
    "    for t in targets:\n",
    "        svcClf = SVC(random_state=0, C=c)\n",
    "        X_train, X_test, y_train, y_test = train_test_split(X_glove, df[t], test_size=0.3, random_state=0)\n",
    "        svcClf.fit(X_train, y_train)\n",
    "        y_pred = svcClf.predict(X_test)\n",
    "        print(t, \" F1 Score -> \", f1_score(y_test, y_pred), \" Accuracy Score -> \", accuracy_score(y_test, y_pred))\n",
    "        avgF1 += f1_score(y_test, y_pred)\n",
    "        comb[t] = svcClf\n",
    "    avgF1 /= 4\n",
    "    f1s.append(avgF1)\n",
    "    if avgF1 > bestF1Avg:\n",
    "        bestF1Avg = avgF1\n",
    "        bestComb = comb\n",
    "    print(\"\\n\")"
   ]
  },
  {
   "cell_type": "code",
   "execution_count": 19,
   "id": "880ba6bd",
   "metadata": {},
   "outputs": [
    {
     "data": {
      "image/png": "[encoded data removed]",
      "text/plain": [
       "<Figure size 432x288 with 1 Axes>"
      ]
     },
     "metadata": {
      "needs_background": "light"
     },
     "output_type": "display_data"
    }
   ],
   "source": [
    "plt.title(\"F1 Score (Test)\")\n",
    "plt.plot(c_values, f1s)\n",
    "plt.xlabel('inverse of regularization strength C')\n",
    "plt.ylabel('F1 Score')\n",
    "plt.show()"
   ]
  },
  {
   "cell_type": "code",
   "execution_count": 20,
   "id": "0d2f8336",
   "metadata": {},
   "outputs": [
    {
     "name": "stdout",
     "output_type": "stream",
     "text": [
      "0.6315509138461533\n"
     ]
    }
   ],
   "source": [
    "print(bestF1Avg)"
   ]
  },
  {
   "cell_type": "markdown",
   "id": "30b4825e",
   "metadata": {},
   "source": [
    "## XGBoost:"
   ]
  },
  {
   "cell_type": "markdown",
   "id": "ebb1349c",
   "metadata": {},
   "source": [
    "### TFIDF:"
   ]
  },
  {
   "cell_type": "code",
   "execution_count": 34,
   "id": "bca02eac",
   "metadata": {
    "scrolled": true
   },
   "outputs": [
    {
     "name": "stdout",
     "output_type": "stream",
     "text": [
      "Boosting rounds: 50\n",
      "IvsE  F1 Score ->  0.8656382740889784  Accuracy Score ->  0.7691125624279678\n",
      "NvsS  F1 Score ->  0.9273027674514664  Accuracy Score ->  0.8647714175950826\n",
      "TvsF  F1 Score ->  0.6683501683501684  Accuracy Score ->  0.6972723780253554\n",
      "JvsP  F1 Score ->  0.38654503990877986  Accuracy Score ->  0.5866308106031503\n",
      "\n",
      "\n",
      "Boosting rounds: 100\n",
      "IvsE  F1 Score ->  0.8629737609329446  Accuracy Score ->  0.7652708413369189\n",
      "NvsS  F1 Score ->  0.9282474226804124  Accuracy Score ->  0.8663081060315021\n",
      "TvsF  F1 Score ->  0.6709346991037132  Accuracy Score ->  0.7038033038801383\n",
      "JvsP  F1 Score ->  0.40434037692747005  Accuracy Score ->  0.5993084902036112\n",
      "\n",
      "\n",
      "Boosting rounds: 150\n",
      "IvsE  F1 Score ->  0.8638708230544966  Accuracy Score ->  0.7668075297733384\n",
      "NvsS  F1 Score ->  0.9273027674514664  Accuracy Score ->  0.8647714175950826\n",
      "TvsF  F1 Score ->  0.678969957081545  Accuracy Score ->  0.7126392623895506\n",
      "JvsP  F1 Score ->  0.40689655172413797  Accuracy Score ->  0.6035343834037649\n",
      "\n",
      "\n",
      "Boosting rounds: 200\n",
      "IvsE  F1 Score ->  0.8649496080627099  Accuracy Score ->  0.768344218209758\n",
      "NvsS  F1 Score ->  0.9271413828689371  Accuracy Score ->  0.8643872454859777\n",
      "TvsF  F1 Score ->  0.6952826179345516  Accuracy Score ->  0.7245485977718018\n",
      "JvsP  F1 Score ->  0.415819209039548  Accuracy Score ->  0.6027660391855552\n",
      "\n",
      "\n",
      "Boosting rounds: 250\n",
      "IvsE  F1 Score ->  0.8639318538444294  Accuracy Score ->  0.7668075297733384\n",
      "NvsS  F1 Score ->  0.9273627734213784  Accuracy Score ->  0.8647714175950826\n",
      "TvsF  F1 Score ->  0.6952826179345516  Accuracy Score ->  0.7245485977718018\n",
      "JvsP  F1 Score ->  0.41139601139601145  Accuracy Score ->  0.60315021129466\n",
      "\n",
      "\n"
     ]
    }
   ],
   "source": [
    "bestF1Avg = 0\n",
    "bestComb = {}\n",
    "f1s = []\n",
    "n_estims = [50, 100, 150, 200, 250]\n",
    "for estim in n_estims:\n",
    "    print(\"Boosting rounds:\", estim)\n",
    "    avgF1 = 0\n",
    "    comb = {}\n",
    "    for t in targets:\n",
    "        xgbClf = XGBClassifier(use_label_encoder=False, random_state=0, eval_metric='mlogloss', n_estimators=estim)\n",
    "        X_train, X_test, y_train, y_test = train_test_split(X_tfidf, df[t], test_size=0.3, random_state=0)\n",
    "        xgbClf.fit(X_train, y_train)\n",
    "        y_pred = xgbClf.predict(X_test)\n",
    "        print(t, \" F1 Score -> \", f1_score(y_test, y_pred), \" Accuracy Score -> \", accuracy_score(y_test, y_pred))\n",
    "        avgF1 += f1_score(y_test, y_pred)\n",
    "        comb[t] = xgbClf\n",
    "    avgF1 /= 4\n",
    "    f1s.append(avgF1)\n",
    "    if avgF1 > bestF1Avg:\n",
    "        bestF1Avg = avgF1\n",
    "        bestComb = comb\n",
    "    print(\"\\n\")"
   ]
  },
  {
   "cell_type": "code",
   "execution_count": 35,
   "id": "8e4cceb6",
   "metadata": {},
   "outputs": [
    {
     "data": {
      "image/png": "[encoded data removed]",
      "text/plain": [
       "<Figure size 432x288 with 1 Axes>"
      ]
     },
     "metadata": {
      "needs_background": "light"
     },
     "output_type": "display_data"
    }
   ],
   "source": [
    "plt.title(\"F1 Score (Test)\")\n",
    "plt.plot(n_estims, f1s)\n",
    "plt.xlabel('no of trees')\n",
    "plt.ylabel('F1 Score')\n",
    "plt.show()"
   ]
  },
  {
   "cell_type": "code",
   "execution_count": 36,
   "id": "32ab8887",
   "metadata": {},
   "outputs": [
    {
     "name": "stdout",
     "output_type": "stream",
     "text": [
      "0.7257982044764366\n"
     ]
    }
   ],
   "source": [
    "print(bestF1Avg)"
   ]
  },
  {
   "cell_type": "markdown",
   "id": "505bb712",
   "metadata": {},
   "source": [
    "### Word2Vec:"
   ]
  },
  {
   "cell_type": "code",
   "execution_count": 37,
   "id": "5f69cab9",
   "metadata": {
    "scrolled": true
   },
   "outputs": [
    {
     "name": "stdout",
     "output_type": "stream",
     "text": [
      "Boosting rounds: 50\n",
      "IvsE  F1 Score ->  0.8634520054078414  Accuracy Score ->  0.7671917018824433\n",
      "NvsS  F1 Score ->  0.9286307053941908  Accuracy Score ->  0.8678447944679216\n",
      "TvsF  F1 Score ->  0.7097591888466414  Accuracy Score ->  0.7360737610449481\n",
      "JvsP  F1 Score ->  0.4524590163934426  Accuracy Score ->  0.6150595466769112\n",
      "\n",
      "\n",
      "Boosting rounds: 100\n",
      "IvsE  F1 Score ->  0.862418374240036  Accuracy Score ->  0.7652708413369189\n",
      "NvsS  F1 Score ->  0.9292971179763633  Accuracy Score ->  0.8689973107952362\n",
      "TvsF  F1 Score ->  0.7226185480486782  Accuracy Score ->  0.746062235881675\n",
      "JvsP  F1 Score ->  0.4596949891067538  Accuracy Score ->  0.6189012677679601\n",
      "\n",
      "\n",
      "Boosting rounds: 150\n",
      "IvsE  F1 Score ->  0.8619133574007221  Accuracy Score ->  0.764886669227814\n",
      "NvsS  F1 Score ->  0.9281561461794021  Accuracy Score ->  0.8670764502497119\n",
      "TvsF  F1 Score ->  0.7241379310344828  Accuracy Score ->  0.7479830964271994\n",
      "JvsP  F1 Score ->  0.4758771929824561  Accuracy Score ->  0.6327314636957357\n",
      "\n",
      "\n",
      "Boosting rounds: 200\n",
      "IvsE  F1 Score ->  0.864803965750338  Accuracy Score ->  0.7694967345370726\n",
      "NvsS  F1 Score ->  0.9282893369361879  Accuracy Score ->  0.8674606223588167\n",
      "TvsF  F1 Score ->  0.7211172238679645  Accuracy Score ->  0.7468305800998848\n",
      "JvsP  F1 Score ->  0.45899834892680236  Accuracy Score ->  0.622358816749904\n",
      "\n",
      "\n",
      "Boosting rounds: 250\n",
      "IvsE  F1 Score ->  0.8643034545044027  Accuracy Score ->  0.7691125624279678\n",
      "NvsS  F1 Score ->  0.928898128898129  Accuracy Score ->  0.8686131386861314\n",
      "TvsF  F1 Score ->  0.7221043699618159  Accuracy Score ->  0.7483672685363043\n",
      "JvsP  F1 Score ->  0.46416758544652703  Accuracy Score ->  0.6265847099500577\n",
      "\n",
      "\n"
     ]
    }
   ],
   "source": [
    "bestF1Avg = 0\n",
    "bestComb = {}\n",
    "f1s = []\n",
    "n_estims = [50, 100, 150, 200, 250]\n",
    "for estim in n_estims:\n",
    "    print(\"Boosting rounds:\", estim)\n",
    "    avgF1 = 0\n",
    "    comb = {}\n",
    "    for t in targets:\n",
    "        xgbClf = XGBClassifier(use_label_encoder=False, random_state=0, eval_metric='mlogloss', n_estimators=estim)\n",
    "        X_train, X_test, y_train, y_test = train_test_split(np.array(X_w2v), df[t], test_size=0.3, random_state=0)\n",
    "        xgbClf.fit(X_train, y_train)\n",
    "        y_pred = xgbClf.predict(X_test)\n",
    "        print(t, \" F1 Score -> \", f1_score(y_test, y_pred), \" Accuracy Score -> \", accuracy_score(y_test, y_pred))\n",
    "        avgF1 += f1_score(y_test, y_pred)\n",
    "        comb[t] = xgbClf\n",
    "    avgF1 /= 4\n",
    "    f1s.append(avgF1)\n",
    "    if avgF1 > bestF1Avg:\n",
    "        bestF1Avg = avgF1\n",
    "        bestComb = comb\n",
    "    print(\"\\n\")"
   ]
  },
  {
   "cell_type": "code",
   "execution_count": 38,
   "id": "78b19644",
   "metadata": {},
   "outputs": [
    {
     "data": {
      "image/png": "[encoded data removed]",
      "text/plain": [
       "<Figure size 432x288 with 1 Axes>"
      ]
     },
     "metadata": {
      "needs_background": "light"
     },
     "output_type": "display_data"
    }
   ],
   "source": [
    "plt.title(\"F1 Score (Test)\")\n",
    "plt.plot(n_estims, f1s)\n",
    "plt.xlabel('no. of trees')\n",
    "plt.ylabel('F1 Score')\n",
    "plt.show()"
   ]
  },
  {
   "cell_type": "code",
   "execution_count": 39,
   "id": "9fffbdff",
   "metadata": {},
   "outputs": [
    {
     "name": "stdout",
     "output_type": "stream",
     "text": [
      "0.7475211568992657\n"
     ]
    }
   ],
   "source": [
    "print(bestF1Avg)"
   ]
  },
  {
   "cell_type": "markdown",
   "id": "5a77b8ae",
   "metadata": {},
   "source": [
    "### Glove:"
   ]
  },
  {
   "cell_type": "code",
   "execution_count": 21,
   "id": "96bc3a70",
   "metadata": {},
   "outputs": [
    {
     "name": "stdout",
     "output_type": "stream",
     "text": [
      "Boosting rounds: 50\n",
      "IvsE  F1 Score ->  0.8626560726447219  Accuracy Score ->  0.7675758739915483\n",
      "NvsS  F1 Score ->  0.9252550489277536  Accuracy Score ->  0.8620822128313484\n",
      "TvsF  F1 Score ->  0.696315120711563  Accuracy Score ->  0.7245485977718018\n",
      "JvsP  F1 Score ->  0.4519337016574586  Accuracy Score ->  0.6189012677679601\n",
      "\n",
      "\n",
      "Boosting rounds: 100\n",
      "IvsE  F1 Score ->  0.8633484162895927  Accuracy Score ->  0.767960046100653\n",
      "NvsS  F1 Score ->  0.9275181723779855  Accuracy Score ->  0.8659239339223972\n",
      "TvsF  F1 Score ->  0.7029535864978903  Accuracy Score ->  0.7295428351901652\n",
      "JvsP  F1 Score ->  0.45925110132158586  Accuracy Score ->  0.6227429888590088\n",
      "\n",
      "\n",
      "Boosting rounds: 150\n",
      "IvsE  F1 Score ->  0.8645833333333334  Accuracy Score ->  0.7702650787552824\n",
      "NvsS  F1 Score ->  0.9287938550965331  Accuracy Score ->  0.8682289665770265\n",
      "TvsF  F1 Score ->  0.7071217867678045  Accuracy Score ->  0.7330003841721091\n",
      "JvsP  F1 Score ->  0.46213808463251677  Accuracy Score ->  0.6288897426046869\n",
      "\n",
      "\n",
      "Boosting rounds: 200\n",
      "IvsE  F1 Score ->  0.8647912885662432  Accuracy Score ->  0.7710334229734921\n",
      "NvsS  F1 Score ->  0.9281561461794021  Accuracy Score ->  0.8670764502497119\n",
      "TvsF  F1 Score ->  0.7106041402619349  Accuracy Score ->  0.7368421052631579\n",
      "JvsP  F1 Score ->  0.4629014396456257  Accuracy Score ->  0.6273530541682674\n",
      "\n",
      "\n",
      "Boosting rounds: 250\n",
      "IvsE  F1 Score ->  0.8682661837935718  Accuracy Score ->  0.7764118325009605\n",
      "NvsS  F1 Score ->  0.9285417532197757  Accuracy Score ->  0.8678447944679216\n",
      "TvsF  F1 Score ->  0.7112050739957716  Accuracy Score ->  0.7376104494813677\n",
      "JvsP  F1 Score ->  0.4630760688506385  Accuracy Score ->  0.628505570495582\n",
      "\n",
      "\n"
     ]
    }
   ],
   "source": [
    "bestF1Avg = 0\n",
    "bestComb = {}\n",
    "f1s = []\n",
    "n_estims = [50, 100, 150, 200, 250]\n",
    "for estim in n_estims:\n",
    "    print(\"Boosting rounds:\", estim)\n",
    "    avgF1 = 0\n",
    "    comb = {}\n",
    "    for t in targets:\n",
    "        xgbClf = XGBClassifier(use_label_encoder=False, random_state=0, eval_metric='mlogloss', n_estimators=estim)\n",
    "        X_train, X_test, y_train, y_test = train_test_split(np.array(X_glove), df[t], test_size=0.3, random_state=0)\n",
    "        xgbClf.fit(X_train, y_train)\n",
    "        y_pred = xgbClf.predict(X_test)\n",
    "        print(t, \" F1 Score -> \", f1_score(y_test, y_pred), \" Accuracy Score -> \", accuracy_score(y_test, y_pred))\n",
    "        avgF1 += f1_score(y_test, y_pred)\n",
    "        comb[t] = xgbClf\n",
    "    avgF1 /= 4\n",
    "    f1s.append(avgF1)\n",
    "    if avgF1 > bestF1Avg:\n",
    "        bestF1Avg = avgF1\n",
    "        bestComb = comb\n",
    "    print(\"\\n\")"
   ]
  },
  {
   "cell_type": "code",
   "execution_count": 22,
   "id": "a928c923",
   "metadata": {},
   "outputs": [
    {
     "data": {
      "image/png": "[encoded data removed]",
      "text/plain": [
       "<Figure size 432x288 with 1 Axes>"
      ]
     },
     "metadata": {
      "needs_background": "light"
     },
     "output_type": "display_data"
    }
   ],
   "source": [
    "plt.title(\"F1 Score (Test)\")\n",
    "plt.plot(n_estims, f1s)\n",
    "plt.xlabel('no. of trees')\n",
    "plt.ylabel('F1 Score')\n",
    "plt.show()"
   ]
  },
  {
   "cell_type": "code",
   "execution_count": 24,
   "id": "f3f7bcb7",
   "metadata": {},
   "outputs": [
    {
     "name": "stdout",
     "output_type": "stream",
     "text": [
      "0.7427722699649394\n"
     ]
    }
   ],
   "source": [
    "print(bestF1Avg)"
   ]
  },
  {
   "cell_type": "code",
   "execution_count": null,
   "id": "46762201",
   "metadata": {},
   "outputs": [],
   "source": []
  }
 ],
 "metadata": {
  "kernelspec": {
   "display_name": "Python 3",
   "language": "python",
   "name": "python3"
  },
  "language_info": {
   "codemirror_mode": {
    "name": "ipython",
    "version": 3
   },
   "file_extension": ".py",
   "mimetype": "text/x-python",
   "name": "python",
   "nbconvert_exporter": "python",
   "pygments_lexer": "ipython3",
   "version": "3.9.6"
  }
 },
 "nbformat": 4,
 "nbformat_minor": 5
}
